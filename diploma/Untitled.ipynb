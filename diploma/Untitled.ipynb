{
 "cells": [
  {
   "cell_type": "code",
   "execution_count": 1,
   "metadata": {},
   "outputs": [],
   "source": [
    "import matplotlib.pyplot as plt\n",
    "import numpy as np\n",
    "import math\n",
    "import random\n",
    "%matplotlib inline"
   ]
  },
  {
   "cell_type": "code",
   "execution_count": 2,
   "metadata": {},
   "outputs": [],
   "source": [
    "def emax(n, w, d):\n",
    "    e_max = 0\n",
    "    i = 1\n",
    "    for i in range(n):\n",
    "            e_max += ((d*w[i])**(n - i + 1))/((n - i + 1)*(n - i + 2)*d*w[2])\n",
    "    return e_max"
   ]
  },
  {
   "cell_type": "code",
   "execution_count": 3,
   "metadata": {},
   "outputs": [],
   "source": [
    "def min_func(A, m, d, md, w):\n",
    "    \n",
    "    #res = res_min_poss(A, m, d, md, w)\n",
    "    res = res_min_ness(A, m, d, md, w)\n",
    "    #print('tut1')\n",
    "    f1 = (w[0]**2) * (m[0]**2 + 1 + (1/3)*(d[0]**2))\n",
    "    f2 = (w[1]**2) * (m[1]**2 + 1 + (1/3)*(d[1]**2))\n",
    "    f = (1/12)*(f1 + f2)\n",
    "    #print('tut1 - ' + str(f))\n",
    "    return f if res else None"
   ]
  },
  {
   "cell_type": "code",
   "execution_count": 4,
   "metadata": {},
   "outputs": [],
   "source": [
    "def res_min_poss(A, m, d, md, w):\n",
    "    #print('tut2')\n",
    "    res1 = (m[0] + 1 + d[0]*(1 - A))*w[0]\n",
    "    res2 = (m[1] + 1 + d[1]*(1 - A))*w[1]\n",
    "    res = (1/2)*(res1 + res2)\n",
    "    #print('tut2 - ' + str(res))\n",
    "    res = res >= md\n",
    "    #print('tut2 - ' + str(res))\n",
    "    return res"
   ]
  },
  {
   "cell_type": "code",
   "execution_count": 5,
   "metadata": {},
   "outputs": [],
   "source": [
    "def res_min_ness(A, m, d, md, w):\n",
    "\n",
    "    res1 = (m[0] + 1 - d[0]*A)*w[0]\n",
    "    res2 = (m[1] + 1 - d[1]*A)*w[1]\n",
    "    res = (1/2)*(res1 + res2)\n",
    "    \n",
    "    res = res >= md\n",
    "    return res"
   ]
  },
  {
   "cell_type": "code",
   "execution_count": 6,
   "metadata": {},
   "outputs": [],
   "source": [
    "def Tm(initialTemperature, i):\n",
    "    T = initialTemperature / 2\n",
    "    return T"
   ]
  },
  {
   "cell_type": "code",
   "execution_count": 7,
   "metadata": {},
   "outputs": [],
   "source": [
    "def takestate(state):\n",
    "    ub = 1.0\n",
    "    lb = 0.0\n",
    "    state_new = np.random.uniform(0, 1, (1, 1)) * (ub - lb) + lb\n",
    "    state_new = state_new[0]\n",
    "    state_new = [state_new[0],1 - state_new[0]]\n",
    "    return state_new"
   ]
  },
  {
   "cell_type": "code",
   "execution_count": 8,
   "metadata": {},
   "outputs": [],
   "source": [
    "m = [0.3, 2.8]\n",
    "d = [3.5, 1.5]\n",
    "#md = 0.9\n",
    "A = 0.65\n",
    "n = 2\n",
    "md = 0\n",
    "\n",
    "ep = 10000000\n",
    "\n",
    "rez = []\n",
    "rez5 = []"
   ]
  },
  {
   "cell_type": "code",
   "execution_count": null,
   "metadata": {},
   "outputs": [],
   "source": []
  },
  {
   "cell_type": "code",
   "execution_count": 9,
   "metadata": {},
   "outputs": [],
   "source": [
    "def initstate():\n",
    "    ub = 1.0\n",
    "    lb = 0.0\n",
    "    E_can = None\n",
    "    while E_can is None:\n",
    "        init_r = np.random.uniform(0, 1, (1, 1)) * (ub - lb) + lb\n",
    "        init_r = init_r[0]\n",
    "        init_r = [init_r[0],1 - init_r[0]]\n",
    "        E_can = min_func(A, m, d, md, init_r)\n",
    "    return init_r, E_can"
   ]
  },
  {
   "cell_type": "code",
   "execution_count": null,
   "metadata": {},
   "outputs": [],
   "source": [
    "for t in range(15):\n",
    "    T = 1000000\n",
    "    P = 0\n",
    "    md = round(md + 0.1, 3)\n",
    "    r_new, E_curr = initstate()\n",
    "    for e in range(ep):\n",
    "        r_new = takestate(r_new)\n",
    "        E_can = min_func(A, m, d, md, r_new)\n",
    "        if E_can != None:\n",
    "            if E_can <= E_curr: \n",
    "                E_curr = E_can\n",
    "                R_max = r_new\n",
    "            elif E_can > E_curr:\n",
    "                dE = E_can - E_curr\n",
    "                if T > 1:\n",
    "                    P = math.exp(-dE/T)\n",
    "                    Rand = random.random()\n",
    "                    if P > Rand:\n",
    "                        T = Tm(T, e)\n",
    "                        E_curr = E_can\n",
    "                        R_max = r_new\n",
    "    rez.append(E_curr)\n",
    "    print('уровень = '+ str(md) + ' риск = ' + str(E_curr) + ' W = ' + str(R_max[0]) +' '+ str(R_max[1]) +'\\n')\n",
    "    \n",
    "   "
   ]
  },
  {
   "cell_type": "code",
   "execution_count": null,
   "metadata": {},
   "outputs": [],
   "source": [
    "#y = np.arange(20)\n",
    "plt.plot(rez)"
   ]
  },
  {
   "cell_type": "code",
   "execution_count": null,
   "metadata": {},
   "outputs": [],
   "source": []
  },
  {
   "cell_type": "code",
   "execution_count": null,
   "metadata": {},
   "outputs": [],
   "source": []
  },
  {
   "cell_type": "code",
   "execution_count": null,
   "metadata": {},
   "outputs": [],
   "source": []
  },
  {
   "cell_type": "code",
   "execution_count": null,
   "metadata": {},
   "outputs": [],
   "source": [
    "Rand = random.random()"
   ]
  },
  {
   "cell_type": "code",
   "execution_count": 10,
   "metadata": {},
   "outputs": [
    {
     "name": "stdout",
     "output_type": "stream",
     "text": [
      "уровень = 0.1 риск = 0.28004214645895364 W = 0.6495822136260913 0.35041778637390875\n",
      "\n",
      "уровень = 0.2 риск = 0.280202720834708 W = 0.6381578161274851 0.3618421838725149\n",
      "\n",
      "уровень = 0.3 риск = 0.2850902117154327 W = 0.5855261399383798 0.41447386006162024\n",
      "\n",
      "уровень = 0.4 риск = 0.29679361949194205 W = 0.5328946436677914 0.4671053563322086\n",
      "\n",
      "уровень = 0.5 риск = 0.315312969093375 W = 0.4802630997002063 0.5197369002997937\n",
      "\n",
      "уровень = 0.6 риск = 0.34064826515790425 W = 0.42763153347409966 0.5723684665259003\n",
      "\n",
      "уровень = 0.7 риск = 0.37279949849625776 W = 0.3749999713900609 0.6250000286099391\n",
      "\n",
      "уровень = 0.8 риск = 0.4117666702864252 W = 0.3223684099862564 0.6776315900137436\n",
      "\n",
      "уровень = 0.9 риск = 0.4575499545200309 W = 0.26973666281916986 0.7302633371808301\n",
      "\n",
      "уровень = 1.0 риск = 0.5101489533420468 W = 0.217105171586637 0.782894828413363\n",
      "\n",
      "уровень = 1.1 риск = 0.5695638718427398 W = 0.16447368116664296 0.835526318833357\n",
      "\n",
      "уровень = 1.2 риск = 0.6357950632294309 W = 0.11184192437425722 0.8881580756257428\n",
      "\n",
      "уровень = 1.3 риск = 0.7088417793655339 W = 0.05921048746827484 0.9407895125317252\n",
      "\n",
      "уровень = 1.4 риск = 0.7887049412192197 W = 0.0065787097972696 0.9934212902027304\n",
      "\n"
     ]
    }
   ],
   "source": [
    "for t in range(14):\n",
    "    T = 10000000000\n",
    "    P = 0\n",
    "    md = round(md + 0.1, 3)\n",
    "    r_new, E_curr = initstate()\n",
    "    for e in range(ep):\n",
    "        r_new = takestate(r_new)\n",
    "        E_can = min_func(A, m, d, md, r_new)\n",
    "        if E_can != None:\n",
    "            if E_can <= E_curr: \n",
    "                E_curr = E_can\n",
    "                R_max = r_new\n",
    "            elif E_can > E_curr:\n",
    "                dE = E_can - E_curr\n",
    "                if T > 1:\n",
    "                    P = math.exp(-dE/T)\n",
    "                    Rand = random.random()\n",
    "                    if P > Rand:\n",
    "                        T = Tm(T, e)\n",
    "                        E_curr = E_can\n",
    "                        R_max = r_new\n",
    "    rez.append(R_max)\n",
    "    rez5.append(E_curr)\n",
    "    print('уровень = '+ str(md) + ' риск = ' + str(E_curr) + ' W = ' + str(R_max[0]) +' '+ str(R_max[1]) +'\\n')\n",
    "    f = open(\"test.txt\", \"a\")\n",
    "    f.write('уровень = '+ str(md) + ' риск = ' + str(E_curr) + ' W = ' + str(R_max[0]) +' '+ str(R_max[1]) +'\\n')\n",
    "    f.close()\n",
    "    "
   ]
  },
  {
   "cell_type": "code",
   "execution_count": 11,
   "metadata": {},
   "outputs": [
    {
     "data": {
      "image/png": "[encoded data removed]",
      "text/plain": [
       "<Figure size 432x288 with 1 Axes>"
      ]
     },
     "metadata": {
      "needs_background": "light"
     },
     "output_type": "display_data"
    }
   ],
   "source": [
    "    xx0 = []\n",
    "    yy0 = []\n",
    "    xx1 = []\n",
    "    yy1 = []\n",
    "\n",
    "\n",
    "    r = np.arange(0, 1.0, 0.01)\n",
    "    for y in r:\n",
    "        for x in r:\n",
    "            r1 = res_min_poss(A, m, d, md, [x, y])\n",
    "            if r1: #and r2:\n",
    "                xx0.append(x)\n",
    "                yy0.append(y)\n",
    "            else:\n",
    "                xx1.append(x)\n",
    "                yy1.append(y)\n",
    "\n",
    "\n",
    "    plt.plot(xx1, yy1)\n",
    "    plt.plot(xx0, yy0, 'yellow')\n",
    "    plt.plot(R_max[0], R_max[1], 'r+', markersize=15)\n",
    "    plt.show()\n",
    "    \n",
    "    #r = R_max.tolist()\n",
    "    #print(R_max)\n",
    "    #\n",
    "    \n",
    "    #f = open(\"test.txt\", \"a\")\n",
    "    #f.write('уровень = '+ str(md) + ' риск = ' + str(E_curr) + ' W = ' + str(R_max[1]) +' '+ str(R_max[2]) +'\\n')\n",
    "    #f.close()"
   ]
  },
  {
   "cell_type": "code",
   "execution_count": 12,
   "metadata": {},
   "outputs": [
    {
     "ename": "NameError",
     "evalue": "name 'rez1' is not defined",
     "output_type": "error",
     "traceback": [
      "\u001b[1;31m---------------------------------------------------------------------------\u001b[0m",
      "\u001b[1;31mNameError\u001b[0m                                 Traceback (most recent call last)",
      "\u001b[1;32m<ipython-input-12-75b3d274a2fb>\u001b[0m in \u001b[0;36m<module>\u001b[1;34m()\u001b[0m\n\u001b[1;32m----> 1\u001b[1;33m \u001b[0mplt\u001b[0m\u001b[1;33m.\u001b[0m\u001b[0mscatter\u001b[0m\u001b[1;33m(\u001b[0m\u001b[0mrez1\u001b[0m\u001b[1;33m[\u001b[0m\u001b[1;33m:\u001b[0m\u001b[1;33m,\u001b[0m\u001b[1;36m0\u001b[0m\u001b[1;33m]\u001b[0m\u001b[1;33m,\u001b[0m \u001b[0mrez1\u001b[0m\u001b[1;33m[\u001b[0m\u001b[1;33m:\u001b[0m\u001b[1;33m,\u001b[0m\u001b[1;36m1\u001b[0m\u001b[1;33m]\u001b[0m\u001b[1;33m)\u001b[0m\u001b[1;33m\u001b[0m\u001b[0m\n\u001b[0m",
      "\u001b[1;31mNameError\u001b[0m: name 'rez1' is not defined"
     ]
    }
   ],
   "source": [
    "plt.scatter(rez1[:,0], rez1[:,1])"
   ]
  },
  {
   "cell_type": "code",
   "execution_count": null,
   "metadata": {},
   "outputs": [],
   "source": []
  }
 ],
 "metadata": {
  "kernelspec": {
   "display_name": "Python 3",
   "language": "python",
   "name": "python3"
  },
  "language_info": {
   "codemirror_mode": {
    "name": "ipython",
    "version": 3
   },
   "file_extension": ".py",
   "mimetype": "text/x-python",
   "name": "python",
   "nbconvert_exporter": "python",
   "pygments_lexer": "ipython3",
   "version": "3.7.0"
  }
 },
 "nbformat": 4,
 "nbformat_minor": 2
}
