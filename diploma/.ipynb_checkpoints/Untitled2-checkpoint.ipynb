{
 "cells": [
  {
   "cell_type": "code",
   "execution_count": 19,
   "metadata": {},
   "outputs": [],
   "source": [
    "import matplotlib.pyplot as plt\n",
    "import numpy as np\n",
    "import math\n",
    "import random\n",
    "%matplotlib inline"
   ]
  },
  {
   "cell_type": "code",
   "execution_count": 20,
   "metadata": {},
   "outputs": [],
   "source": [
    "def min_func(A, m, d, md, w):\n",
    "    \n",
    "    res = res_min_poss(A, m, d, md, w)\n",
    "    #res = res_min_ness(A, m, d, md, w)\n",
    "    \n",
    "    f = 0\n",
    "    f1 = (w[0]**2) * (m[0]**2 + 1 + (1/3)*(d[0]**2))\n",
    "    f2 = (w[1]**2) * (m[1]**2 + 1 + (1/3)*(d[1]**2))\n",
    "    f = (1/12)*(f1 + f2)\n",
    "    \n",
    "    return f if res else -np.inf"
   ]
  },
  {
   "cell_type": "code",
   "execution_count": 21,
   "metadata": {},
   "outputs": [],
   "source": [
    "def res_min_poss(A, m, d, md, w):\n",
    "    \n",
    "    res1 = (m[0] + 1 + d[0]*(1 - A))*w[0]\n",
    "    res2 = (m[1] + 1 + d[1]*(1 - A))*w[1]\n",
    "    res = (1/2)*(res1 + res2)\n",
    "\n",
    "    res = res >= md\n",
    "    return res"
   ]
  },
  {
   "cell_type": "code",
   "execution_count": 22,
   "metadata": {},
   "outputs": [],
   "source": [
    "m = [0.3, 2.8]\n",
    "d = [3.5, 1.5]\n",
    "#md = 0.9\n",
    "A = 0.65\n",
    "md = 1\n",
    "T = 1000000\n",
    "ep = 1000000\n",
    "P = 0\n",
    "rez = []"
   ]
  },
  {
   "cell_type": "code",
   "execution_count": null,
   "metadata": {},
   "outputs": [],
   "source": []
  },
  {
   "cell_type": "code",
   "execution_count": null,
   "metadata": {},
   "outputs": [],
   "source": []
  },
  {
   "cell_type": "code",
   "execution_count": 27,
   "metadata": {},
   "outputs": [
    {
     "data": {
      "image/png": "[encoded data removed]",
      "text/plain": [
       "<Figure size 432x288 with 1 Axes>"
      ]
     },
     "metadata": {
      "needs_background": "light"
     },
     "output_type": "display_data"
    }
   ],
   "source": [
    "# отрисовка\n",
    "xx0 = []\n",
    "yy0 = []\n",
    "xx1 = []\n",
    "yy1 = []\n",
    "xx2 = []\n",
    "yy2 = []\n",
    "\n",
    "r = np.arange(-10.0, 10.0, 0.01)\n",
    "for y in r:\n",
    "    for x in r:\n",
    "        r1 = res_min_poss(A, m, d, md, [x, y])\n",
    "        if r1:\n",
    "            xx0.append(x)\n",
    "            yy0.append(y)\n",
    "        else:\n",
    "            xx1.append(x)\n",
    "            yy1.append(y)\n",
    "\n",
    "\n",
    "plt.plot(xx1, yy1)\n",
    "plt.plot(xx0, yy0, 'yellow')\n",
    "plt.plot(best[0], best[1], 'r+', markersize=15)\n",
    "plt.show()"
   ]
  },
  {
   "cell_type": "code",
   "execution_count": null,
   "metadata": {},
   "outputs": [],
   "source": []
  }
 ],
 "metadata": {
  "kernelspec": {
   "display_name": "Python 3",
   "language": "python",
   "name": "python3"
  },
  "language_info": {
   "codemirror_mode": {
    "name": "ipython",
    "version": 3
   },
   "file_extension": ".py",
   "mimetype": "text/x-python",
   "name": "python",
   "nbconvert_exporter": "python",
   "pygments_lexer": "ipython3",
   "version": "3.7.0"
  }
 },
 "nbformat": 4,
 "nbformat_minor": 2
}
