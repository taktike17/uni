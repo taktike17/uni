{
 "cells": [
  {
   "cell_type": "code",
   "execution_count": 30,
   "metadata": {},
   "outputs": [],
   "source": [
    "import matplotlib.pyplot as plt\n",
    "import numpy as np\n",
    "import math\n",
    "import random\n",
    "%matplotlib inline"
   ]
  },
  {
   "cell_type": "code",
   "execution_count": 31,
   "metadata": {},
   "outputs": [],
   "source": [
    "def emax(n, w, d):\n",
    "    e_max = 0\n",
    "    i = 1\n",
    "    for i in range(n):\n",
    "            e_max += ((d*w[i])**(n - i + 1))/((n - i + 1)*(n - i + 2)*d*w[2])\n",
    "    return e_max"
   ]
  },
  {
   "cell_type": "code",
   "execution_count": 32,
   "metadata": {},
   "outputs": [],
   "source": [
    "def min_func(n, A, m, d, md, w):\n",
    "    \n",
    "    res = res_min_poss(n, A, m, d, md, w)\n",
    "    #res = res_min_ness(n, A, m, d, md, w)\n",
    "    \n",
    "    f = 0\n",
    "    f1 = (w[0]**2) * (m[0]**2 + 1 + (1/3)*(d[0]**2))\n",
    "    f2 = (w[1]**2) * (m[1]**2 + 1 + (1/3)*(d[1]**2))\n",
    "    f = (1/12)*(f1 + f2)\n",
    "    \n",
    "    return f if res else None"
   ]
  },
  {
   "cell_type": "code",
   "execution_count": 33,
   "metadata": {},
   "outputs": [],
   "source": [
    "def res_min_poss(n, A, m, d, md, w):\n",
    "    \n",
    "    res1 = (m[0] + 1 + d[0]*(1 - A))*w[0]\n",
    "    res2 = (m[1] + 1 + d[1]*(1 - A))*w[1]\n",
    "    res = (1/2)*(res1 + res2)\n",
    "\n",
    "    res = res >= md\n",
    "    return res"
   ]
  },
  {
   "cell_type": "code",
   "execution_count": 34,
   "metadata": {},
   "outputs": [],
   "source": [
    "def res_min_ness(n, A, m, d, md, w):\n",
    "    \n",
    "    i = 1\n",
    "    res = 0\n",
    "    sumw = 0\n",
    "    for i in range(n):\n",
    "        res += (m[i] + 1 - d[i]*A)*w[i]\n",
    "        #sumw += w[i]\n",
    "    res = (-1/2)*res\n",
    "    res = res >= md\n",
    "    return res #and sumw"
   ]
  },
  {
   "cell_type": "code",
   "execution_count": 35,
   "metadata": {},
   "outputs": [],
   "source": [
    "def Tm(initialTemperature, i):\n",
    "    T = initialTemperature / 2\n",
    "    return T"
   ]
  },
  {
   "cell_type": "code",
   "execution_count": 36,
   "metadata": {},
   "outputs": [],
   "source": [
    "def takestate(state):\n",
    "    ub = 1.0\n",
    "    lb = 0.0\n",
    "    state_new = np.random.uniform(0, 1, (1, 1)) * (ub - lb) + lb\n",
    "    state_new = state_new[0]\n",
    "    state_new = [0, state_new[0],1 - state_new[0]]\n",
    "    return state_new"
   ]
  },
  {
   "cell_type": "code",
   "execution_count": 37,
   "metadata": {},
   "outputs": [],
   "source": [
    "m = [0, 0.3, 2.8]\n",
    "d = [0, 3.5, 1.5]\n",
    "#md = 0.9\n",
    "A = 0.65\n",
    "n = 2\n",
    "md = 0\n",
    "T = 1000000\n",
    "ep = 1000000\n",
    "P = 0\n",
    "rez = []"
   ]
  },
  {
   "cell_type": "code",
   "execution_count": null,
   "metadata": {},
   "outputs": [],
   "source": []
  },
  {
   "cell_type": "code",
   "execution_count": 38,
   "metadata": {},
   "outputs": [],
   "source": [
    "def initstate():\n",
    "    ub = 1.0\n",
    "    lb = 0.0\n",
    "    E_can = None\n",
    "    while E_can is None:\n",
    "        init_r = np.random.uniform(0, 1, (1, 1)) * (ub - lb) + lb\n",
    "        init_r = init_r[0]\n",
    "        init_r = [init_r[0],1 - init_r[0]]\n",
    "        E_can = min_func(n, A, m, d, md, init_r)\n",
    "    return init_r, E_can"
   ]
  },
  {
   "cell_type": "code",
   "execution_count": 1,
   "metadata": {},
   "outputs": [
    {
     "ename": "SyntaxError",
     "evalue": "invalid syntax (<ipython-input-1-bd9fdfcc5cbb>, line 17)",
     "output_type": "error",
     "traceback": [
      "\u001b[1;36m  File \u001b[1;32m\"<ipython-input-1-bd9fdfcc5cbb>\"\u001b[1;36m, line \u001b[1;32m17\u001b[0m\n\u001b[1;33m    if Rand P > Rand:\u001b[0m\n\u001b[1;37m            ^\u001b[0m\n\u001b[1;31mSyntaxError\u001b[0m\u001b[1;31m:\u001b[0m invalid syntax\n"
     ]
    }
   ],
   "source": [
    "for t in range(20):\n",
    "\n",
    "    md = round(md + 0.1, 3)\n",
    "    r_new, E_curr = initstate()\n",
    "    for e in range(ep):\n",
    "        r_new = takestate(r_new)\n",
    "        E_can = min_func(n, A, m, d, md, r_new)\n",
    "        if E_can != None:\n",
    "            if E_can <= E_curr: \n",
    "                E_curr = E_can\n",
    "                R_max = r_new\n",
    "            elif E_can > E_curr:\n",
    "                dE = E_can - E_curr\n",
    "                T = Tm(T, e)\n",
    "                P = math.exp(-dE/T)\n",
    "                Rand = random.random()\n",
    "                if P > Rand:\n",
    "                    print(str(P) + ' ' + str(E_can))\n",
    "                    E_curr = E_can\n",
    "                    R_max = r_new\n",
    "    rez.append(E_curr)\n",
    "    print('уровень = '+ str(md) + ' риск = ' + str(E_curr) + ' W = ' + str(R_max[1]) +' '+ str(R_max[2]) +'\\n')\n",
    "    \n",
    "   "
   ]
  },
  {
   "cell_type": "code",
   "execution_count": null,
   "metadata": {},
   "outputs": [],
   "source": [
    "y = np.arange(10)\n",
    "plt.plot(rez)"
   ]
  },
  {
   "cell_type": "code",
   "execution_count": 30,
   "metadata": {},
   "outputs": [],
   "source": []
  },
  {
   "cell_type": "code",
   "execution_count": null,
   "metadata": {},
   "outputs": [],
   "source": []
  },
  {
   "cell_type": "code",
   "execution_count": 11,
   "metadata": {},
   "outputs": [],
   "source": []
  },
  {
   "cell_type": "code",
   "execution_count": 28,
   "metadata": {},
   "outputs": [],
   "source": [
    "Rand = random.random()"
   ]
  },
  {
   "cell_type": "code",
   "execution_count": 29,
   "metadata": {},
   "outputs": [
    {
     "data": {
      "text/plain": [
       "0.4132082261117893"
      ]
     },
     "execution_count": 29,
     "metadata": {},
     "output_type": "execute_result"
    }
   ],
   "source": [
    "Rand"
   ]
  },
  {
   "cell_type": "code",
   "execution_count": null,
   "metadata": {},
   "outputs": [],
   "source": [
    "    xx0 = []\n",
    "    yy0 = []\n",
    "    xx1 = []\n",
    "    yy1 = []\n",
    "\n",
    "\n",
    "    r = np.arange(0, 1.0, 0.01)\n",
    "    for y in r:\n",
    "        for x in r:\n",
    "            r1 = res_min_poss(n, A, m, d, md, [0, x, y])\n",
    "            if r1: #and r2:\n",
    "                xx0.append(x)\n",
    "                yy0.append(y)\n",
    "            else:\n",
    "                xx1.append(x)\n",
    "                yy1.append(y)\n",
    "\n",
    "\n",
    "    plt.plot(xx1, yy1)\n",
    "    plt.plot(xx0, yy0, 'yellow')\n",
    "    plt.plot(R_max[1], R_max[2], 'r+', markersize=15)\n",
    "    plt.show()\n",
    "    \n",
    "    #r = R_max.tolist()\n",
    "    #print(R_max)\n",
    "    #\n",
    "    \n",
    "    #f = open(\"test.txt\", \"a\")\n",
    "    #f.write('уровень = '+ str(md) + ' риск = ' + str(E_curr) + ' W = ' + str(R_max[1]) +' '+ str(R_max[2]) +'\\n')\n",
    "    #f.close()"
   ]
  }
 ],
 "metadata": {
  "kernelspec": {
   "display_name": "Python 3",
   "language": "python",
   "name": "python3"
  },
  "language_info": {
   "codemirror_mode": {
    "name": "ipython",
    "version": 3
   },
   "file_extension": ".py",
   "mimetype": "text/x-python",
   "name": "python",
   "nbconvert_exporter": "python",
   "pygments_lexer": "ipython3",
   "version": "3.7.0"
  }
 },
 "nbformat": 4,
 "nbformat_minor": 2
}
