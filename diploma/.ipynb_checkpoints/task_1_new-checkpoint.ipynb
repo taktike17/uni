{
 "cells": [
  {
   "cell_type": "code",
   "execution_count": 1,
   "metadata": {},
   "outputs": [],
   "source": [
    "import matplotlib.pyplot as plt\n",
    "import numpy as np\n",
    "import math\n",
    "import random\n",
    "%matplotlib inline"
   ]
  },
  {
   "cell_type": "code",
   "execution_count": 2,
   "metadata": {},
   "outputs": [],
   "source": [
    "def emax_(d, w):\n",
    "    \n",
    "    e_max1 = ((d[0]*w[0])**(2 - 1 + 1))/((2 - 1 + 1)*(2 - 1 + 2)*d[1]*w[1])\n",
    "    e_max2 = ((d[1]*w[1])**(2 - 2 + 1))/((2 - 2 + 1)*(2 - 2 + 2)*d[1]*w[1])\n",
    "    e_max = e_max1 + e_max2\n",
    "    \n",
    "    return e_max"
   ]
  },
  {
   "cell_type": "code",
   "execution_count": 3,
   "metadata": {},
   "outputs": [],
   "source": [
    "def emax(d, w):\n",
    "    \n",
    "    e_max1 = ((d[0]*w[0])**(2 - 1 + 1))/((2 - 1 + 1)*(2 - 1 + 2)*d[1]*w[1]*d[0]*w[0])\n",
    "    e_max2 = ((d[1]*w[1]*d[0]*w[0])**(2 - 2 + 1))/((2 - 2 + 1)*(2 - 2 + 2)*d[1]*w[1]*d[0]*w[0])\n",
    "    e_max = e_max1 + e_max2\n",
    "    \n",
    "    return e_max"
   ]
  },
  {
   "cell_type": "code",
   "execution_count": 4,
   "metadata": {},
   "outputs": [],
   "source": [
    "def emax2_(d, w):\n",
    "    \n",
    "    e_max1 = (2*((d[0]*w[0])**(2 - 1 + 2)))/((2 - 1 + 2)*(2 - 1 + 3)*d[1]*w[1])\n",
    "    e_max2 = (2*((d[1]*w[1])**(2 - 2 + 2)))/((2 - 2 + 2)*(2 - 2 + 3)*d[1]*w[1])\n",
    "    e_max = e_max1 + e_max2\n",
    "    \n",
    "    return e_max"
   ]
  },
  {
   "cell_type": "code",
   "execution_count": 5,
   "metadata": {},
   "outputs": [],
   "source": [
    "def emax2(d, w):\n",
    "    \n",
    "    e_max1 = (2*((d[0]*w[0])**(2 - 1 + 2)))/((2 - 1 + 2)*(2 - 1 + 3)*d[1]*w[1]*d[0]*w[0])\n",
    "    e_max2 = (2*((d[1]*w[1]*d[0]*w[0])**(2 - 2 + 2)))/((2 - 2 + 2)*(2 - 2 + 3)*d[1]*w[1]*d[0]*w[0])\n",
    "    e_max = e_max1 + e_max2\n",
    "    \n",
    "    return e_max"
   ]
  },
  {
   "cell_type": "code",
   "execution_count": 6,
   "metadata": {},
   "outputs": [],
   "source": [
    "# f = 3 - tw-related in the possibility context\n",
    "# f = 4 - tw-related in the necessity context\n",
    "def tw_func(A, m, d, md, w, f):\n",
    "    \n",
    "    if f == 3:\n",
    "        res = res_tw_poss(A, m, d, md, w)\n",
    "    elif f == 4:\n",
    "        res = res_tw_ness(A, m, d, md, w)\n",
    "    else:\n",
    "        return None\n",
    "        print('alzrma_tw')\n",
    "    \n",
    "    f1 = (1/12)*((w[0]**2)*(m[0]**2 + 1) + (w[1]**2)*(m[1]**2 + 1))\n",
    "    f2 = (1/3)*(emax2(d, w) - emax(d, w)**2)\n",
    "    f = f1 + f2\n",
    "   # print('f1 ' + str(f1) + 'f2  ' + str(f2) + 'f '+ str(f))\n",
    "    return f if res else None"
   ]
  },
  {
   "cell_type": "code",
   "execution_count": 7,
   "metadata": {},
   "outputs": [],
   "source": [
    "def res_tw_poss(A, m, d, md, w):\n",
    "    \n",
    "    res1 = (m[0] + 1)*w[0] + (m[1] + 1)*w[1]\n",
    "    res2 = emax(d, w)*(1 - A)\n",
    "    res = (1/2)*(res1 + res2)\n",
    "\n",
    "    res = res >= md\n",
    "#    print('2')\n",
    "    return res"
   ]
  },
  {
   "cell_type": "code",
   "execution_count": 8,
   "metadata": {},
   "outputs": [],
   "source": [
    "def res_tw_ness(A, m, d, md, w):\n",
    "    \n",
    "    res1 = (m[0] + 1)*w[0] + (m[1] + 1)*w[1]\n",
    "    res2 = emax(d, w)*A\n",
    "    res = (1/2)*(res1 - res2)\n",
    "\n",
    "    res = res >= md\n",
    "#    print('3')\n",
    "    return res"
   ]
  },
  {
   "cell_type": "code",
   "execution_count": 9,
   "metadata": {},
   "outputs": [],
   "source": [
    "# f = 1 - min-related in the possibility context\n",
    "# f = 2 - min-ralated in the necessity context\n",
    "def min_func(A, m, d, md, w, f):\n",
    "    \n",
    "    if f == 1:\n",
    "        res = res_min_poss(A, m, d, md, w)\n",
    "    elif f == 2:\n",
    "        res = res_min_ness(A, m, d, md, w)\n",
    "    else:\n",
    "        return None\n",
    "        print('alzrma_min')\n",
    "\n",
    "    f1 = (w[0]**2) * (m[0]**2 + 1 + (1/3)*(d[0]**2))\n",
    "    f2 = (w[1]**2) * (m[1]**2 + 1 + (1/3)*(d[1]**2))\n",
    "    f = (1/12)*(f1 + f2)\n",
    "#    print('1')\n",
    "    return f if res else None"
   ]
  },
  {
   "cell_type": "code",
   "execution_count": 10,
   "metadata": {},
   "outputs": [],
   "source": [
    "def res_min_poss(A, m, d, md, w):\n",
    "\n",
    "    res1 = (m[0] + 1 + d[0]*(1 - A))*w[0]\n",
    "    res2 = (m[1] + 1 + d[1]*(1 - A))*w[1]\n",
    "    res = (1/2)*(res1 + res2)\n",
    "\n",
    "    res = res >= md\n",
    "\n",
    "    return res"
   ]
  },
  {
   "cell_type": "code",
   "execution_count": 11,
   "metadata": {},
   "outputs": [],
   "source": [
    "def res_min_ness(A, m, d, md, w):\n",
    "\n",
    "    res1 = (m[0] + 1 - d[0]*A)*w[0]\n",
    "    res2 = (m[1] + 1 - d[1]*A)*w[1]\n",
    "    res = (1/2)*(res1 + res2)\n",
    "    \n",
    "    res = res >= md\n",
    "    return res"
   ]
  },
  {
   "cell_type": "code",
   "execution_count": 12,
   "metadata": {},
   "outputs": [],
   "source": [
    "def Tm(initialTemperature, i):\n",
    "    T = initialTemperature / 2\n",
    "    return T"
   ]
  },
  {
   "cell_type": "code",
   "execution_count": 13,
   "metadata": {},
   "outputs": [],
   "source": [
    "def takestate(state):\n",
    "    ub = 1.0\n",
    "    lb = 0.0\n",
    "    state_new = np.random.uniform(0, 1, (1, 1)) * (ub - lb) + lb\n",
    "    state_new = state_new[0]\n",
    "    state_new = [state_new[0],1 - state_new[0]]\n",
    "    return state_new"
   ]
  },
  {
   "cell_type": "code",
   "execution_count": 14,
   "metadata": {},
   "outputs": [],
   "source": [
    "def initstate(f):\n",
    "    ub = 1.0\n",
    "    lb = 0.0\n",
    "    E_can = None\n",
    "    while E_can is None:\n",
    "        init_r = np.random.uniform(0, 1, (1, 1)) * (ub - lb) + lb\n",
    "        init_r = init_r[0]\n",
    "        init_r = [init_r[0],1 - init_r[0]]\n",
    "#        print('0')\n",
    "        if f == 1 or f == 2:\n",
    "            E_can = min_func(A, m, d, md, init_r, f)\n",
    "        elif f == 3 or f == 4:\n",
    "            E_can = tw_func(A, m, d, md, init_r, f)\n",
    "        else:\n",
    "            E_can = None\n",
    "            print('alzrma_in')\n",
    "            print(str(f))\n",
    "            \n",
    "    return init_r, E_can"
   ]
  },
  {
   "cell_type": "code",
   "execution_count": 15,
   "metadata": {},
   "outputs": [],
   "source": [
    "# f = 1 - min-related in the possibility context\n",
    "# f = 2 - min-ralated in the necessity context\n",
    "# f = 3 - tw-related in the possibility context\n",
    "# f = 4 - tw-related in the necessity context\n",
    "\n",
    "def alg(n, ep, A, m, d, md, f):\n",
    "    rez = []\n",
    "    rez5 = []\n",
    "    for t in range(n):\n",
    "        T = 100000000\n",
    "        P = 0\n",
    "        md = round(md + 0.1, 3)\n",
    "        r_new, E_curr = initstate(f)\n",
    "        for e in range(ep):\n",
    "#            print('3')\n",
    "            r_new = takestate(r_new)\n",
    "            \n",
    "            if f == 1 or f == 2:\n",
    "                E_can = min_func(A, m, d, md, r_new, f)\n",
    "            elif f == 3 or f == 4:\n",
    "                E_can = tw_func(A, m, d, md, r_new, f)\n",
    "            else:\n",
    "                E_can = None\n",
    "                print('alzrma')\n",
    "            \n",
    "            if E_can != None:\n",
    "                if E_can <= E_curr: \n",
    "                    E_curr = E_can\n",
    "                    R_max = r_new\n",
    "                elif E_can > E_curr:\n",
    "                    dE = E_can - E_curr\n",
    "                    if T > 1:\n",
    "                        P = math.exp(-dE/T)\n",
    "                        Rand = random.random()\n",
    "                        if P > Rand:\n",
    "                            T = Tm(T, e)\n",
    "                            E_curr = E_can\n",
    "                            R_max = r_new\n",
    "        rez.append(R_max)\n",
    "        rez5.append(E_curr)\n",
    "        print('уровень = '+ str(md) + ' риск = ' + str(E_curr) + ' W = ' + str(R_max[0]) +' '+ str(R_max[1]) +'\\n')\n",
    "        file = open(\"test.txt\", \"a\")\n",
    "        file.write('уровень = '+ str(md) + ' риск = ' + str(E_curr) + ' W = ' + str(R_max[0]) +' '+ str(R_max[1]) +'\\n')\n",
    "        file.close()\n",
    "    \n",
    "    return rez, rez5"
   ]
  },
  {
   "cell_type": "code",
   "execution_count": 16,
   "metadata": {},
   "outputs": [],
   "source": [
    "def plotrmax():    \n",
    "    xx0 = []\n",
    "    yy0 = []\n",
    "    xx1 = []\n",
    "    yy1 = []\n",
    "\n",
    "\n",
    "    r = np.arange(0, 1.0, 0.01)\n",
    "    for y in r:\n",
    "        for x in r:\n",
    "            r1 = res_min_poss(A, m, d, md, [x, y])\n",
    "            if r1:\n",
    "                xx0.append(x)\n",
    "                yy0.append(y)\n",
    "            else:\n",
    "                xx1.append(x)\n",
    "                yy1.append(y)\n",
    "\n",
    "\n",
    "    plt.plot(xx1, yy1)\n",
    "    plt.plot(xx0, yy0, 'yellow')\n",
    "    plt.plot(R_max[0], R_max[1], 'r+', markersize=15)\n",
    "    plt.show()"
   ]
  },
  {
   "cell_type": "code",
   "execution_count": null,
   "metadata": {},
   "outputs": [],
   "source": []
  },
  {
   "cell_type": "code",
   "execution_count": 17,
   "metadata": {},
   "outputs": [
    {
     "name": "stdout",
     "output_type": "stream",
     "text": [
      "уровень = 0.1 риск = -1598366824.299799 W = 0.9999943841383435 5.615861656482757e-06\n",
      "\n",
      "уровень = 0.2 риск = -19348751.064770002 W = 0.9999489677135717 5.103228642833191e-05\n",
      "\n",
      "уровень = 0.3 риск = -5635687445.557143 W = 0.999997009209558 2.990790441970148e-06\n",
      "\n",
      "уровень = 0.4 риск = -3693746236.7031097 W = 0.9999963057641521 3.6942358478952997e-06\n",
      "\n",
      "уровень = 0.5 риск = -369440811.6442086 W = 0.9999883192401942 1.1680759805843266e-05\n",
      "\n",
      "уровень = 0.6 риск = -79700559.82018846 W = 0.9999748528835057 2.5147116494261823e-05\n",
      "\n",
      "уровень = 0.7 риск = -229355937.4803835 W = 0.999985175406952 1.482459304802397e-05\n",
      "\n",
      "уровень = 0.8 риск = -193720401.8811178 W = 0.9999838695046948 1.6130495305244352e-05\n",
      "\n",
      "уровень = 0.9 риск = -122028348.96744053 W = 0.9999796765543065 2.0323445693470887e-05\n",
      "\n",
      "уровень = 1.0 риск = -2277751385.738774 W = 0.9999952956119563 4.70438804367479e-06\n",
      "\n",
      "уровень = 1.1 риск = -926646693.6467398 W = 0.9999926244515871 7.375548412902333e-06\n",
      "\n",
      "уровень = 1.2 риск = -4860524942.923202 W = 0.9999967795435899 3.220456410102379e-06\n",
      "\n",
      "уровень = 1.3 риск = -82278643.08136332 W = 0.9999752499519716 2.475004802837688e-05\n",
      "\n",
      "уровень = 1.4 риск = -8785853324.840294 W = 0.9999976046523762 2.395347623806998e-06\n",
      "\n",
      "уровень = 1.5 риск = -1584511132.3726993 W = 0.9999943596385352 5.640361464775978e-06\n",
      "\n",
      "уровень = 1.6 риск = -6650783179.814607 W = 0.9999972468905712 2.753109428765832e-06\n",
      "\n",
      "уровень = 1.7 риск = -897826141.9761771 W = 0.9999925070114312 7.4929885688357345e-06\n",
      "\n",
      "уровень = 1.8 риск = -776896436.7108749 W = 0.9999919449433365 8.055056663458515e-06\n",
      "\n",
      "уровень = 1.9 риск = -262078422.2080797 W = 0.9999861316788012 1.3868321198762246e-05\n",
      "\n",
      "уровень = 2.0 риск = -32090463413.50713 W = 0.9999987466434954 1.2533565045824702e-06\n",
      "\n",
      "уровень = 0.1 риск = 0.1067766180128713 W = 0.8269199659360977 0.17308003406390227\n",
      "\n",
      "уровень = 0.2 риск = 0.2014656907980889 W = 0.8070560603377668 0.19294393966223322\n",
      "\n",
      "уровень = 0.3 риск = 0.26273776998335086 W = 0.7836469090858579 0.21635309091414212\n",
      "\n",
      "уровень = 0.4 риск = 0.29700583062703667 W = 0.7562474998632862 0.2437525001367138\n",
      "\n",
      "уровень = 0.5 риск = 0.3074815825698042 W = 0.5856940235205552 0.4143059764794448\n",
      "\n",
      "уровень = 0.6 риск = 0.3074815820482638 W = 0.5857088032291242 0.4142911967708758\n",
      "\n",
      "уровень = 0.7 риск = 0.30748158198909925 W = 0.5857127641989687 0.41428723580103133\n",
      "\n",
      "уровень = 0.8 риск = 0.3074815819643405 W = 0.5857165736622958 0.4142834263377042\n",
      "\n",
      "уровень = 0.9 риск = 0.3091482117956229 W = 0.5475983812086487 0.4524016187913513\n",
      "\n",
      "уровень = 1.0 риск = 0.317904603259065 W = 0.4920508125993085 0.5079491874006915\n",
      "\n",
      "уровень = 1.1 риск = 0.3354453550221279 W = 0.4328035578005387 0.5671964421994613\n",
      "\n",
      "уровень = 1.2 риск = 0.3622895274036493 W = 0.37048659102609094 0.6295134089739091\n",
      "\n",
      "уровень = 1.3 риск = 0.3984138407538633 W = 0.30551114288922576 0.6944888571107742\n",
      "\n"
     ]
    }
   ],
   "source": [
    "m = [0.3, 2.8]\n",
    "d = [3.5, 1.5]\n",
    "A = 0.65\n",
    "md = 0\n",
    "ep = 100000\n",
    "\n",
    "rez = []\n",
    "rez2 = []\n",
    "rez3 = []\n",
    "rez4 = []\n",
    "\n",
    "# alg(n, ep, A, m, d, md, f) \n",
    "# md = 1 ... n\n",
    "# f = 1 min-poss 2 min-ness 3 tw-poss 4 tw-ness\n",
    "rez, rez2 = alg(20, ep, A, m, d, md, 3)\n",
    "\n",
    "\n",
    "#plt.scatter(rez1[:,0], rez1[:,1])\n",
    "\n"
   ]
  },
  {
   "cell_type": "code",
   "execution_count": 22,
   "metadata": {},
   "outputs": [
    {
     "name": "stdout",
     "output_type": "stream",
     "text": [
      "уровень = 0.1 риск = 0.1067954913638105 W = 0.8269169225386555 0.17308307746134455\n",
      "\n",
      "уровень = 0.2 риск = 0.2014834225975673 W = 0.8070510969490634 0.1929489030509366\n",
      "\n",
      "уровень = 0.3 риск = 0.26268345957933975 W = 0.7836764229438455 0.21632357705615446\n",
      "\n",
      "уровень = 0.4 риск = 0.2969979371575948 W = 0.7562575567498596 0.24374244325014038\n",
      "\n",
      "уровень = 0.5 риск = 0.3074815819730815 W = 0.5857146229770138 0.4142853770229862\n",
      "\n",
      "уровень = 0.6 риск = 0.30748158199222186 W = 0.5857124789181393 0.41428752108186073\n",
      "\n",
      "уровень = 0.7 риск = 0.3074815819757334 W = 0.5857142446492263 0.4142857553507737\n",
      "\n",
      "уровень = 0.8 риск = 0.3074815819750184 W = 0.5857209809208211 0.41427901907917886\n",
      "\n",
      "уровень = 0.9 риск = 0.3091483460235542 W = 0.5475968756433389 0.4524031243566611\n",
      "\n",
      "уровень = 1.0 риск = 0.31790744651541014 W = 0.4920382279715796 0.5079617720284204\n",
      "\n",
      "уровень = 1.1 риск = 0.3354364744744974 W = 0.4328279468537649 0.5671720531462351\n",
      "\n",
      "уровень = 1.2 риск = 0.36228724571050314 W = 0.37049120297406657 0.6295087970259334\n",
      "\n",
      "уровень = 1.3 риск = 0.3984095073356706 W = 0.3055181942501941 0.6944818057498059\n",
      "\n",
      "уровень = 1.4 риск = 0.44341174137554845 W = 0.23834955473289599 0.761650445267104\n",
      "\n",
      "уровень = 1.5 риск = 0.49673640577467476 W = 0.16937309157927982 0.8306269084207202\n",
      "\n",
      "уровень = 1.6 риск = 0.5577907947486391 W = 0.09889988174163089 0.9011001182583691\n",
      "\n",
      "уровень = 1.7 риск = 0.6260231368772097 W = 0.027163642050755388 0.9728363579492446\n",
      "\n",
      "уровень = 1.8 риск = 0.21226900372407506 W = 0.027163642050755388 0.9728363579492446\n",
      "\n",
      "уровень = 1.9 риск = 0.32687131431897387 W = 0.027163642050755388 0.9728363579492446\n",
      "\n",
      "уровень = 2.0 риск = 0.3828869602799413 W = 0.027163642050755388 0.9728363579492446\n",
      "\n"
     ]
    }
   ],
   "source": [
    "rez3, rez4 = alg(20, ep, A, m, d, md, 4)"
   ]
  },
  {
   "cell_type": "code",
   "execution_count": 18,
   "metadata": {},
   "outputs": [
    {
     "data": {
      "text/plain": [
       "[<matplotlib.lines.Line2D at 0x1e49a27b0b8>]"
      ]
     },
     "execution_count": 18,
     "metadata": {},
     "output_type": "execute_result"
    },
    {
     "data": {
      "image/png": "[encoded data removed]",
      "text/plain": [
       "<Figure size 432x288 with 1 Axes>"
      ]
     },
     "metadata": {
      "needs_background": "light"
     },
     "output_type": "display_data"
    }
   ],
   "source": [
    "plt.plot(rez2, color=\"C0\")"
   ]
  },
  {
   "cell_type": "code",
   "execution_count": 23,
   "metadata": {},
   "outputs": [
    {
     "data": {
      "text/plain": [
       "[<matplotlib.lines.Line2D at 0x1e49a539e48>]"
      ]
     },
     "execution_count": 23,
     "metadata": {},
     "output_type": "execute_result"
    },
    {
     "data": {
      "image/png": "[encoded data removed]",
      "text/plain": [
       "<Figure size 432x288 with 1 Axes>"
      ]
     },
     "metadata": {
      "needs_background": "light"
     },
     "output_type": "display_data"
    }
   ],
   "source": [
    "plt.plot(rez4, color=\"C0\")"
   ]
  },
  {
   "cell_type": "code",
   "execution_count": null,
   "metadata": {},
   "outputs": [],
   "source": []
  },
  {
   "cell_type": "code",
   "execution_count": 24,
   "metadata": {},
   "outputs": [
    {
     "data": {
      "image/png": "[encoded data removed]",
      "text/plain": [
       "<Figure size 432x288 with 2 Axes>"
      ]
     },
     "metadata": {
      "needs_background": "light"
     },
     "output_type": "display_data"
    }
   ],
   "source": [
    "fig=plt.figure()\n",
    "x=np.arange(-10,10.01,0.01)\n",
    "ax=fig.add_subplot(111, label=\"1\")\n",
    "ax2=fig.add_subplot(111, label=\"2\", frame_on=False)\n",
    "#ax3=fig.add_subplot(111, label=\"3\", frame_on=False)\n",
    "\n",
    "ax.plot(rez2, color=\"C0\")\n",
    "ax2.plot(rez4 )\n",
    "plt.show()"
   ]
  },
  {
   "cell_type": "code",
   "execution_count": null,
   "metadata": {},
   "outputs": [],
   "source": []
  }
 ],
 "metadata": {
  "kernelspec": {
   "display_name": "Python 3",
   "language": "python",
   "name": "python3"
  },
  "language_info": {
   "codemirror_mode": {
    "name": "ipython",
    "version": 3
   },
   "file_extension": ".py",
   "mimetype": "text/x-python",
   "name": "python",
   "nbconvert_exporter": "python",
   "pygments_lexer": "ipython3",
   "version": "3.7.0"
  }
 },
 "nbformat": 4,
 "nbformat_minor": 2
}
