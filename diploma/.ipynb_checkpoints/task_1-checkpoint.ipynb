{
 "cells": [
  {
   "cell_type": "code",
   "execution_count": 9,
   "metadata": {},
   "outputs": [],
   "source": [
    "import matplotlib.pyplot as plt\n",
    "import numpy as np\n",
    "import math\n",
    "import random\n",
    "%matplotlib inline"
   ]
  },
  {
   "cell_type": "code",
   "execution_count": 10,
   "metadata": {},
   "outputs": [],
   "source": [
    "def emax(n, w, d):\n",
    "    e_max = 0\n",
    "    i = 1\n",
    "    for i in range(n):\n",
    "            e_max += ((d*w[i])**(n - i + 1))/((n - i + 1)*(n - i + 2)*d*w[2])\n",
    "    return e_max"
   ]
  },
  {
   "cell_type": "code",
   "execution_count": 11,
   "metadata": {},
   "outputs": [],
   "source": [
    "def min_func(n, A, m, d, md, w):\n",
    "    \n",
    "    res = res_min_poss(n, A, m, d, md, w)\n",
    "    #res = res_min_ness(n, A, m, d, md, w)\n",
    "    \n",
    "    i = 1\n",
    "    f = 0\n",
    "    for i in range(n):\n",
    "        f += (w[i]**2) * (m[i]**2 + 1 + (1/3)*(d[i]**2))\n",
    "    f = (1/12)*f\n",
    "    \n",
    "    return f if res else None"
   ]
  },
  {
   "cell_type": "code",
   "execution_count": 12,
   "metadata": {},
   "outputs": [],
   "source": [
    "def res_min_poss(n, A, m, d, md, w):\n",
    "    \n",
    "    i = 1\n",
    "    res = 0\n",
    "    sumw = 0\n",
    "    for i in range(n):\n",
    "        res += (m[i] + 1 + d[i]*(1 - A))*w[i]\n",
    "        sumw += w[i]\n",
    "    res = (1/2)*res\n",
    "      #sumw = sumw == 1\n",
    "    res = res >= md\n",
    "    return res #and sumw"
   ]
  },
  {
   "cell_type": "code",
   "execution_count": 13,
   "metadata": {},
   "outputs": [],
   "source": [
    "def res_min_ness(n, A, m, d, md, w):\n",
    "    \n",
    "    i = 1\n",
    "    res = 0\n",
    "    sumw = 0\n",
    "    for i in range(n):\n",
    "        res += (m[i] + 1 - d[i]*A)*w[i]\n",
    "        #sumw += w[i]\n",
    "    res = (-1/2)*res\n",
    "    res = res >= md\n",
    "    return res #and sumw"
   ]
  },
  {
   "cell_type": "code",
   "execution_count": 14,
   "metadata": {},
   "outputs": [],
   "source": [
    "def Tm(initialTemperature, i):\n",
    "    T = initialTemperature * 1 / i\n",
    "    return T"
   ]
  },
  {
   "cell_type": "code",
   "execution_count": 15,
   "metadata": {},
   "outputs": [],
   "source": [
    "def takestate(state):\n",
    "    ub = 1.0\n",
    "    lb = 0.0\n",
    "    state_new = np.random.uniform(0, 1, (1, 1)) * (ub - lb) + lb\n",
    "    state_new = state_new[0]\n",
    "    state_new = [0, state_new[0],1 - state_new[0]]\n",
    "    return state_new"
   ]
  },
  {
   "cell_type": "code",
   "execution_count": 16,
   "metadata": {},
   "outputs": [],
   "source": [
    "m = [0, 0.3, 2.8]\n",
    "d = [0, 3.5, 1.5]\n",
    "#md = 0.9\n",
    "A = 0.65\n",
    "n = 2\n",
    "md = 1\n",
    "T = 1000000\n",
    "ep = 1000000\n",
    "P = 0\n",
    "rez = []"
   ]
  },
  {
   "cell_type": "code",
   "execution_count": null,
   "metadata": {},
   "outputs": [],
   "source": []
  },
  {
   "cell_type": "code",
   "execution_count": 17,
   "metadata": {},
   "outputs": [],
   "source": [
    "def initstate():\n",
    "    ub = 1.0\n",
    "    lb = 0.0\n",
    "    E_can = None\n",
    "    while E_can is None:\n",
    "        init_r = np.random.uniform(0, 1, (1, 1)) * (ub - lb) + lb\n",
    "        init_r = init_r[0]\n",
    "        init_r = [0, init_r[0],1 - init_r[0]]\n",
    "        E_can = min_func(n, A, m, d, md, init_r)\n",
    "    return init_r, E_can"
   ]
  },
  {
   "cell_type": "code",
   "execution_count": null,
   "metadata": {},
   "outputs": [
    {
     "name": "stdout",
     "output_type": "stream",
     "text": [
      "уровень = 1.1 риск = 0.32727560329920835 W = 0.8712889535868648 0.12871104641313524\n",
      "\n",
      "уровень = 1.2000000000000002 риск = 0.38948403480630733 W = 0.9504958436403166 0.049504156359683416\n",
      "\n"
     ]
    }
   ],
   "source": [
    "for t in range(10):\n",
    "\n",
    "    md += 0.1\n",
    "    r_new, E_curr = initstate()\n",
    "    for e in range(ep):\n",
    "        r_new = takestate(r_new)\n",
    "        E_can = min_func(n, A, m, d, md, r_new)\n",
    "        if E_can != None:\n",
    "            if E_can <= E_curr: \n",
    "                E_curr = E_can\n",
    "                R_max = r_new\n",
    "            elif E_can > E_curr:\n",
    "                dE = E_can - E_curr\n",
    "                P = math.exp(-dE/T)\n",
    "                Rand = random.random()\n",
    "                if Rand - P > 0:\n",
    "                    E_curr = E_can\n",
    "                    R_max = r_new\n",
    "    rez.append(E_curr)\n",
    "    print('уровень = '+ str(md) + ' риск = ' + str(E_curr) + ' W = ' + str(R_max[1]) +' '+ str(R_max[2]) +'\\n')\n",
    "    \n",
    "    \n",
    "    #r = R_max.tolist()\n",
    "    #print(R_max)\n",
    "    #\n",
    "    \n",
    "    #f = open(\"test.txt\", \"a\")\n",
    "    #f.write('уровень = '+ str(md) + ' риск = ' + str(E_curr) + ' W = ' + str(R_max[1]) +' '+ str(R_max[2]) +'\\n')\n",
    "    #f.close()"
   ]
  },
  {
   "cell_type": "code",
   "execution_count": null,
   "metadata": {},
   "outputs": [],
   "source": [
    "y = np.arange(10)\n",
    "plt.plot(rez, y)"
   ]
  },
  {
   "cell_type": "code",
   "execution_count": 30,
   "metadata": {},
   "outputs": [],
   "source": [
    "plt.show()"
   ]
  },
  {
   "cell_type": "code",
   "execution_count": null,
   "metadata": {},
   "outputs": [],
   "source": []
  }
 ],
 "metadata": {
  "kernelspec": {
   "display_name": "Python 3",
   "language": "python",
   "name": "python3"
  },
  "language_info": {
   "codemirror_mode": {
    "name": "ipython",
    "version": 3
   },
   "file_extension": ".py",
   "mimetype": "text/x-python",
   "name": "python",
   "nbconvert_exporter": "python",
   "pygments_lexer": "ipython3",
   "version": "3.7.0"
  }
 },
 "nbformat": 4,
 "nbformat_minor": 2
}
