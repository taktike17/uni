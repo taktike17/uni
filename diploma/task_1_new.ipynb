{
 "cells": [
  {
   "cell_type": "code",
   "execution_count": 21,
   "metadata": {},
   "outputs": [],
   "source": [
    "import matplotlib.pyplot as plt\n",
    "import numpy as np\n",
    "import math\n",
    "import random\n",
    "%matplotlib inline"
   ]
  },
  {
   "cell_type": "code",
   "execution_count": 22,
   "metadata": {},
   "outputs": [],
   "source": [
    "def emax_(d, w):\n",
    "    \n",
    "    e_max1 = ((d[0]*w[0])**(2 - 1 + 1))/((2 - 1 + 1)*(2 - 1 + 2)*d[1]*w[1])\n",
    "    e_max2 = ((d[1]*w[1])**(2 - 2 + 1))/((2 - 2 + 1)*(2 - 2 + 2)*d[1]*w[1])\n",
    "    e_max = e_max1 + e_max2\n",
    "    \n",
    "    return e_max"
   ]
  },
  {
   "cell_type": "code",
   "execution_count": 23,
   "metadata": {},
   "outputs": [],
   "source": [
    "def emax(d, w):\n",
    "    \n",
    "    e_max1 = ((d[0]*w[0])**(2 - 1 + 1))/((2 - 1 + 1)*(2 - 1 + 2)*d[1]*w[1]*d[0]*w[0])\n",
    "    e_max2 = ((d[1]*w[1]*d[0]*w[0])**(2 - 2 + 1))/((2 - 2 + 1)*(2 - 2 + 2)*d[1]*w[1]*d[0]*w[0])\n",
    "    e_max = e_max1 + e_max2\n",
    "    \n",
    "    return e_max"
   ]
  },
  {
   "cell_type": "code",
   "execution_count": 24,
   "metadata": {},
   "outputs": [],
   "source": [
    "def emax2_(d, w):\n",
    "    \n",
    "    e_max1 = (2*((d[0]*w[0])**(2 - 1 + 2)))/((2 - 1 + 2)*(2 - 1 + 3)*d[1]*w[1])\n",
    "    e_max2 = (2*((d[1]*w[1])**(2 - 2 + 2)))/((2 - 2 + 2)*(2 - 2 + 3)*d[1]*w[1])\n",
    "    e_max = e_max1 + e_max2\n",
    "    \n",
    "    return e_max"
   ]
  },
  {
   "cell_type": "code",
   "execution_count": 25,
   "metadata": {},
   "outputs": [],
   "source": [
    "def emax2(d, w):\n",
    "    \n",
    "    e_max1 = (2*((d[0]*w[0])**(2 - 1 + 2)))/((2 - 1 + 2)*(2 - 1 + 3)*d[1]*w[1]*d[0]*w[0])\n",
    "    e_max2 = (2*((d[1]*w[1]*d[0]*w[0])**(2 - 2 + 2)))/((2 - 2 + 2)*(2 - 2 + 3)*d[1]*w[1]*d[0]*w[0])\n",
    "    e_max = e_max1 + e_max2\n",
    "    \n",
    "    return e_max"
   ]
  },
  {
   "cell_type": "code",
   "execution_count": 26,
   "metadata": {},
   "outputs": [],
   "source": [
    "# f = 3 - tw-related in the possibility context\n",
    "# f = 4 - tw-related in the necessity context\n",
    "def tw_func(A, m, d, md, w, f):\n",
    "    \n",
    "    if f == 3:\n",
    "        res = res_tw_poss(A, m, d, md, w)\n",
    "    elif f == 4:\n",
    "        res = res_tw_ness(A, m, d, md, w)\n",
    "    else:\n",
    "        return None\n",
    "        print('alzrma_tw')\n",
    "    \n",
    "    f1 = (1/12)*((w[0]**2)*(m[0]**2 + 1) + (w[1]**2)*(m[1]**2 + 1))\n",
    "    f2 = (1/3)*(emax2(d, w) - emax(d, w)**2)\n",
    "    f = f1 + f2\n",
    "   # print('f1 ' + str(f1) + 'f2  ' + str(f2) + 'f '+ str(f))\n",
    "    return f if res else None"
   ]
  },
  {
   "cell_type": "code",
   "execution_count": 27,
   "metadata": {},
   "outputs": [],
   "source": [
    "def res_tw_poss(A, m, d, md, w):\n",
    "    \n",
    "    res1 = (m[0] + 1)*w[0] + (m[1] + 1)*w[1]\n",
    "    res2 = emax(d, w)*(1 - A)\n",
    "    res = (1/2)*(res1 + res2)\n",
    "\n",
    "    res = res >= md\n",
    "#    print('2')\n",
    "    return res"
   ]
  },
  {
   "cell_type": "code",
   "execution_count": 28,
   "metadata": {},
   "outputs": [],
   "source": [
    "def res_tw_ness(A, m, d, md, w):\n",
    "    \n",
    "    res1 = (m[0] + 1)*w[0] + (m[1] + 1)*w[1]\n",
    "    res2 = emax(d, w)*A\n",
    "    res = (1/2)*(res1 - res2)\n",
    "\n",
    "    res = res >= md\n",
    "#    print('3')\n",
    "    return res"
   ]
  },
  {
   "cell_type": "code",
   "execution_count": 29,
   "metadata": {},
   "outputs": [],
   "source": [
    "# f = 1 - min-related in the possibility context\n",
    "# f = 2 - min-ralated in the necessity context\n",
    "def min_func(A, m, d, md, w, f):\n",
    "    \n",
    "    if f == 1:\n",
    "        res = res_min_poss(A, m, d, md, w)\n",
    "    elif f == 2:\n",
    "        res = res_min_ness(A, m, d, md, w)\n",
    "    else:\n",
    "        return None\n",
    "        print('alzrma_min')\n",
    "\n",
    "    f1 = (w[0]**2) * (m[0]**2 + 1 + (1/3)*(d[0]**2))\n",
    "    f2 = (w[1]**2) * (m[1]**2 + 1 + (1/3)*(d[1]**2))\n",
    "    f = (1/12)*(f1 + f2)\n",
    "#    print('1')\n",
    "    return f if res else None"
   ]
  },
  {
   "cell_type": "code",
   "execution_count": 30,
   "metadata": {},
   "outputs": [],
   "source": [
    "def res_min_poss(A, m, d, md, w):\n",
    "\n",
    "    res1 = (m[0] + 1 + d[0]*(1 - A))*w[0]\n",
    "    res2 = (m[1] + 1 + d[1]*(1 - A))*w[1]\n",
    "    res = (1/2)*(res1 + res2)\n",
    "\n",
    "    res = res >= md\n",
    "\n",
    "    return res"
   ]
  },
  {
   "cell_type": "code",
   "execution_count": 31,
   "metadata": {},
   "outputs": [],
   "source": [
    "def res_min_ness(A, m, d, md, w):\n",
    "\n",
    "    res1 = (m[0] + 1 - d[0]*A)*w[0]\n",
    "    res2 = (m[1] + 1 - d[1]*A)*w[1]\n",
    "    res = (1/2)*(res1 + res2)\n",
    "    \n",
    "    res = res >= md\n",
    "    return res"
   ]
  },
  {
   "cell_type": "code",
   "execution_count": 32,
   "metadata": {},
   "outputs": [],
   "source": [
    "def Tm(initialTemperature, i):\n",
    "    T = initialTemperature / 2\n",
    "    return T"
   ]
  },
  {
   "cell_type": "code",
   "execution_count": 33,
   "metadata": {},
   "outputs": [],
   "source": [
    "def takestate(state):\n",
    "    ub = 1.0\n",
    "    lb = 0.0\n",
    "    state_new = np.random.uniform(0, 1, (1, 1)) * (ub - lb) + lb\n",
    "    state_new = state_new[0]\n",
    "    state_new = [state_new[0],1 - state_new[0]]\n",
    "    return state_new"
   ]
  },
  {
   "cell_type": "code",
   "execution_count": 34,
   "metadata": {},
   "outputs": [],
   "source": [
    "def initstate(f):\n",
    "    ub = 1.0\n",
    "    lb = 0.0\n",
    "    E_can = None\n",
    "    while E_can is None:\n",
    "        init_r = np.random.uniform(0, 1, (1, 1)) * (ub - lb) + lb\n",
    "        init_r = init_r[0]\n",
    "        init_r = [init_r[0],1 - init_r[0]]\n",
    "#        print('0')\n",
    "        if f == 1 or f == 2:\n",
    "            E_can = min_func(A, m, d, md, init_r, f)\n",
    "        elif f == 3 or f == 4:\n",
    "            E_can = tw_func(A, m, d, md, init_r, f)\n",
    "        else:\n",
    "            E_can = None\n",
    "            print('alzrma_in')\n",
    "            print(str(f))\n",
    "            \n",
    "    return init_r, E_can"
   ]
  },
  {
   "cell_type": "code",
   "execution_count": 46,
   "metadata": {},
   "outputs": [],
   "source": [
    "# f = 1 - min-related in the possibility context\n",
    "# f = 2 - min-ralated in the necessity context\n",
    "# f = 3 - tw-related in the possibility context\n",
    "# f = 4 - tw-related in the necessity context\n",
    "\n",
    "def alg(n, ep, A, m, d, md, f):\n",
    "    rez = []\n",
    "    rez5 = []\n",
    "    for t in range(n):\n",
    "        T = 100000000\n",
    "        P = 0\n",
    "        md = round(md + 0.1, 3)\n",
    "        E_curr = 0\n",
    "        r_new, E_curr = initstate(f)\n",
    "        for e in range(ep):\n",
    "            r_new = takestate(r_new)\n",
    "            \n",
    "            if f == 1 or f == 2:\n",
    "                E_can = min_func(A, m, d, md, r_new, f)\n",
    "            elif f == 3 or f == 4:\n",
    "                E_can = tw_func(A, m, d, md, r_new, f)\n",
    "            else:\n",
    "                E_can = None\n",
    "                print('alzrma')\n",
    "            \n",
    "            if E_can != None:\n",
    "                if E_can <= E_curr: \n",
    "                    E_curr = E_can\n",
    "                    R_max = r_new\n",
    "                elif E_can > E_curr:\n",
    "                    dE = E_can - E_curr\n",
    "                    if T > 1:\n",
    "                        P = math.exp(-dE/T)\n",
    "                        Rand = random.random()\n",
    "                        if P > Rand:\n",
    "                            T = Tm(T, e)\n",
    "                            E_curr = E_can\n",
    "                            R_max = r_new\n",
    "        rez.append(R_max)\n",
    "        rez5.append(E_curr)\n",
    "        print('уровень = '+ str(md) + ' риск = ' + str(E_curr) + ' W = ' + str(R_max[0]) +' '+ str(R_max[1]) +'\\n')\n",
    "        file = open(\"test.txt\", \"a\")\n",
    "        file.write('уровень = '+ str(md) + ' риск = ' + str(E_curr) + ' W = ' + str(R_max[0]) +' '+ str(R_max[1]) +'\\n')\n",
    "        file.close()\n",
    "    \n",
    "    return rez, rez5"
   ]
  },
  {
   "cell_type": "code",
   "execution_count": 47,
   "metadata": {},
   "outputs": [],
   "source": [
    "def plotrmax():    \n",
    "    xx0 = []\n",
    "    yy0 = []\n",
    "    xx1 = []\n",
    "    yy1 = []\n",
    "\n",
    "\n",
    "    r = np.arange(0, 1.0, 0.01)\n",
    "    for y in r:\n",
    "        for x in r:\n",
    "            r1 = res_min_poss(A, m, d, md, [x, y])\n",
    "            if r1:\n",
    "                xx0.append(x)\n",
    "                yy0.append(y)\n",
    "            else:\n",
    "                xx1.append(x)\n",
    "                yy1.append(y)\n",
    "\n",
    "\n",
    "    plt.plot(xx1, yy1)\n",
    "    plt.plot(xx0, yy0, 'yellow')\n",
    "    plt.plot(R_max[0], R_max[1], 'r+', markersize=15)\n",
    "    plt.show()"
   ]
  },
  {
   "cell_type": "code",
   "execution_count": null,
   "metadata": {},
   "outputs": [],
   "source": []
  },
  {
   "cell_type": "code",
   "execution_count": 157,
   "metadata": {},
   "outputs": [
    {
     "name": "stdout",
     "output_type": "stream",
     "text": [
      "уровень = 0.1 риск = 0.28004214652319204 W = 0.6495750720272923 0.35042492797270774\n",
      "\n",
      "уровень = 0.2 риск = 0.2800421464812468 W = 0.6495780408369459 0.3504219591630541\n",
      "\n",
      "уровень = 0.3 риск = 0.28004214647240955 W = 0.6495856067315644 0.3504143932684356\n",
      "\n",
      "уровень = 0.4 риск = 0.28004214648323417 W = 0.6495778551802301 0.35042214481976985\n",
      "\n",
      "уровень = 0.5 риск = 0.28004214646335895 W = 0.6495841926715784 0.3504158073284216\n",
      "\n",
      "уровень = 0.6 риск = 0.2800421464631149 W = 0.6495804574087888 0.3504195425912112\n",
      "\n",
      "уровень = 0.7 риск = 0.28004214645903047 W = 0.649582034540447 0.35041796545955295\n",
      "\n",
      "уровень = 0.8 риск = 0.2800421466001235 W = 0.6495930107933081 0.3504069892066919\n",
      "\n",
      "уровень = 0.9 риск = 0.2800421464938898 W = 0.6495769689289017 0.3504230310710983\n",
      "\n",
      "уровень = 1.0 риск = 0.2800421464589875 W = 0.6495821121631434 0.35041788783685657\n",
      "\n",
      "уровень = 1.1 риск = 0.28004214655914506 W = 0.6495732737852989 0.35042672621470106\n",
      "\n",
      "уровень = 1.2 риск = 0.28004214646108183 W = 0.649580980519149 0.35041901948085097\n",
      "\n",
      "уровень = 1.3 риск = 0.2800421464725047 W = 0.6495789785758782 0.3504210214241218\n",
      "\n",
      "уровень = 1.4 риск = 0.2800421465187417 W = 0.6495892701734028 0.35041072982659716\n",
      "\n",
      "уровень = 1.5 риск = 0.28004214691014884 W = 0.6495631477762794 0.35043685222372056\n",
      "\n",
      "уровень = 1.6 риск = 0.28078566952843065 W = 0.6249986898059814 0.3750013101940186\n",
      "\n",
      "уровень = 1.7 риск = 0.30269780127027485 W = 0.5138801512121515 0.48611984878784853\n",
      "\n",
      "уровень = 1.8 риск = 0.3549959688990878 W = 0.40275379902389563 0.5972462009761044\n",
      "\n",
      "уровень = 1.9 риск = 0.43764636929745704 W = 0.2916652914474185 0.7083347085525815\n",
      "\n",
      "уровень = 2.0 риск = 0.5506940796043943 W = 0.18054867504000016 0.8194513249599998\n",
      "\n"
     ]
    }
   ],
   "source": [
    "m = [0.3, 2.8]\n",
    "d = [3.5, 1.5]\n",
    "A = 0.65\n",
    "md = 0\n",
    "ep = 100000\n",
    "\n",
    "rez = []\n",
    "rez2 = []\n",
    "rez3 = []\n",
    "rez4 = []\n",
    "\n",
    "# alg(n, ep, A, m, d, md, f) \n",
    "# md = 1 ... n\n",
    "# f = 1 min-poss 2 min-ness 3 tw-poss 4 tw-ness\n",
    "rez, rez2 = alg(20, ep, A, m, d, md, 1)\n",
    "\n",
    "\n",
    "#plt.scatter(rez1[:,0], rez1[:,1])\n",
    "\n"
   ]
  },
  {
   "cell_type": "code",
   "execution_count": 172,
   "metadata": {},
   "outputs": [
    {
     "name": "stdout",
     "output_type": "stream",
     "text": [
      "уровень = 0.1 риск = 0.28004214645934483 W = 0.6495817282497245 0.3504182717502755\n",
      "\n",
      "уровень = 0.2 риск = 0.2802030079362175 W = 0.6381476073961779 0.36185239260382207\n",
      "\n",
      "уровень = 0.3 риск = 0.2850926979940268 W = 0.5855103673757591 0.4144896326242409\n",
      "\n",
      "уровень = 0.4 риск = 0.29679798849427463 W = 0.53287942782981 0.46712057217019\n",
      "\n",
      "уровень = 0.5 риск = 0.31533364097514766 W = 0.48021348881084125 0.5197865111891588\n",
      "\n",
      "уровень = 0.6 риск = 0.3406528253358897 W = 0.42762318352548123 0.5723768164745188\n",
      "\n",
      "уровень = 0.7 риск = 0.37280434342597324 W = 0.374992800450639 0.625007199549361\n",
      "\n",
      "уровень = 0.8 риск = 0.4117672312533528 W = 0.32236771324441615 0.6776322867555838\n",
      "\n",
      "уровень = 0.9 риск = 0.4575542511422431 W = 0.26973206571626707 0.7302679342837329\n",
      "\n",
      "уровень = 1.0 риск = 0.5101580386489657 W = 0.2170966339238375 0.7829033660761625\n",
      "\n",
      "уровень = 1.1 риск = 0.5695698044521218 W = 0.16446871099525506 0.8355312890047449\n",
      "\n",
      "уровень = 1.2 риск = 0.6358057535237888 W = 0.11183384494689208 0.8881661550531079\n",
      "\n",
      "уровень = 1.3 риск = 0.7088674178528582 W = 0.059192838183172114 0.9408071618168279\n",
      "\n"
     ]
    }
   ],
   "source": [
    "rez3, rez4 = alg(13, ep, A, m, d, md, 2)"
   ]
  },
  {
   "cell_type": "code",
   "execution_count": 178,
   "metadata": {},
   "outputs": [],
   "source": [
    "while len(rez4)<20:\n",
    "    rez4.append(None)\n",
    "for i in range(14):\n",
    "    rez2[i] = None\n",
    "\n",
    "xx = np.arange(0, 2, 0.1)\n",
    "yy = np.arange(0, 1, 0.05)"
   ]
  },
  {
   "cell_type": "code",
   "execution_count": 185,
   "metadata": {},
   "outputs": [
    {
     "data": {
      "text/plain": [
       "[<matplotlib.lines.Line2D at 0x14253d0f358>]"
      ]
     },
     "execution_count": 185,
     "metadata": {},
     "output_type": "execute_result"
    },
    {
     "data": {
      "image/png": "[encoded data removed]",
      "text/plain": [
       "<Figure size 432x288 with 1 Axes>"
      ]
     },
     "metadata": {
      "needs_background": "light"
     },
     "output_type": "display_data"
    }
   ],
   "source": [
    "plt.plot(xx, rez2)\n",
    "plt.plot(xx, rez4)"
   ]
  },
  {
   "cell_type": "code",
   "execution_count": 186,
   "metadata": {},
   "outputs": [
    {
     "data": {
      "image/png": "[encoded data removed]",
      "text/plain": [
       "<Figure size 432x288 with 1 Axes>"
      ]
     },
     "metadata": {
      "needs_background": "light"
     },
     "output_type": "display_data"
    }
   ],
   "source": [
    "fig, ax = plt.subplots()\n",
    "\n",
    "ax.set_xlim(0, 2)\n",
    "ax.set_ylim(0, 1)\n",
    "ax.plot(xx, rez2)\n",
    "ax.plot(xx, rez4)\n",
    "plt.show()"
   ]
  },
  {
   "cell_type": "code",
   "execution_count": null,
   "metadata": {},
   "outputs": [],
   "source": []
  }
 ],
 "metadata": {
  "kernelspec": {
   "display_name": "Python 3",
   "language": "python",
   "name": "python3"
  },
  "language_info": {
   "codemirror_mode": {
    "name": "ipython",
    "version": 3
   },
   "file_extension": ".py",
   "mimetype": "text/x-python",
   "name": "python",
   "nbconvert_exporter": "python",
   "pygments_lexer": "ipython3",
   "version": "3.7.0"
  }
 },
 "nbformat": 4,
 "nbformat_minor": 2
}
