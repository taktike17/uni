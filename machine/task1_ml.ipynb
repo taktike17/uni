{
 "cells": [
  {
   "cell_type": "code",
   "execution_count": 1,
   "metadata": {
    "scrolled": true
   },
   "outputs": [],
   "source": [
    "import numpy as np\n",
    "import pandas as pd"
   ]
  },
  {
   "cell_type": "markdown",
   "metadata": {},
   "source": [
    "1. Читаем из файла:"
   ]
  },
  {
   "cell_type": "code",
   "execution_count": 2,
   "metadata": {},
   "outputs": [],
   "source": [
    "df = pd.read_csv('flats.csv', sep=';',  encoding='cp1251', na_values='?')"
   ]
  },
  {
   "cell_type": "markdown",
   "metadata": {},
   "source": [
    "2. Приводим столбец 'Цена' к числовому типу:"
   ]
  },
  {
   "cell_type": "code",
   "execution_count": 3,
   "metadata": {},
   "outputs": [],
   "source": [
    "df['Цена,руб'] = df['Цена,руб'].replace(to_replace=r'\\s+', value='',regex=True).astype('int64')"
   ]
  },
  {
   "cell_type": "markdown",
   "metadata": {},
   "source": [
    "3. Удаляем дубликаты квартир:"
   ]
  },
  {
   "cell_type": "code",
   "execution_count": 4,
   "metadata": {},
   "outputs": [],
   "source": [
    "df = df.sort_values(by='Цена,руб')\n",
    "df = df.drop_duplicates(subset=['Улица', '№ дома', 'Дом', 'Площадь'], keep = 'first')\n",
    "df = df.sort_index()"
   ]
  },
  {
   "cell_type": "markdown",
   "metadata": {},
   "source": [
    "4. Разбиваем столбец Дом на следующие столбцы:"
   ]
  },
  {
   "cell_type": "code",
   "execution_count": 5,
   "metadata": {
    "scrolled": false
   },
   "outputs": [],
   "source": [
    "df.insert(6, 'Этаж', '0') #этаж на котором квартира\n",
    "df.insert(7, 'Количество этажей', '0') #количество этажей в доме\n",
    "df.insert(8, 'Первый этаж', '0' ) #да = 1, нет = 0\n",
    "df.insert(9, 'Крайний этаж', '0') #первый или последний = 1,нет = 0\n",
    "df.insert(10, 'Отношение', '0') #отношение этажа к количеству этажей\n",
    "df.insert(11, 'Тип дома', '0') #тип дома Б - блочный П - панельный М - монолит М-К - монолит-кирпич К - кирпич"
   ]
  },
  {
   "cell_type": "code",
   "execution_count": 6,
   "metadata": {
    "scrolled": true
   },
   "outputs": [],
   "source": [
    "#Получаем первую часть до разделителя / - это этаж\n",
    "df['Этаж'] = df['Дом'].str.split('/').str.get(0).replace('\\\\?', np.nan, regex=True)"
   ]
  },
  {
   "cell_type": "code",
   "execution_count": 7,
   "metadata": {
    "scrolled": true
   },
   "outputs": [],
   "source": [
    "#Получаем вторую часть после разделителя /, затем получаем первую часть после разделителя ' ' - это количество этажей в доме\n",
    "df['Количество этажей'] = df['Дом'].str.split('/').str.get(1).str.split(' ').str.get(0).replace('\\\\?', np.nan, regex=True)"
   ]
  },
  {
   "cell_type": "code",
   "execution_count": 8,
   "metadata": {
    "scrolled": true
   },
   "outputs": [],
   "source": [
    "#Получаем этаж, нужно получить первый этаж - меняем единички на нули, что бы отличать первый этаж от других,\n",
    "#приводим к булеву значению, инвертируем результат.\n",
    "df['Первый этаж'] =  ~df['Дом'].str.split('/').str.get(0).replace('\\\\?', np.nan, regex=True).astype('float')\\\n",
    ".replace(1, 0).astype('bool')"
   ]
  },
  {
   "cell_type": "code",
   "execution_count": 9,
   "metadata": {
    "scrolled": true
   },
   "outputs": [],
   "source": [
    "#Если количество этажей совпадает с этажом или это первый этаж, то это крайний этаж\n",
    "df['Крайний этаж'] = np.where((df['Количество этажей'] == df['Этаж']) | df['Первый этаж'] , True, False)"
   ]
  },
  {
   "cell_type": "code",
   "execution_count": 10,
   "metadata": {
    "scrolled": true
   },
   "outputs": [],
   "source": [
    "#Просто делим этаж на количество этажей\n",
    "df['Отношение'] = np.where(df['Этаж'].isnull() | df['Количество этажей'].isnull(), np.nan,\\\n",
    "                           (df['Этаж'].astype('float') /df['Количество этажей'].astype('float')).round(3))"
   ]
  },
  {
   "cell_type": "code",
   "execution_count": 11,
   "metadata": {},
   "outputs": [],
   "source": [
    "#Получаем тип дома\n",
    "df['Тип дома'] = df['Дом'].str.split(' ').str.get(1).replace('\\\\?', np.nan, regex=True)"
   ]
  },
  {
   "cell_type": "markdown",
   "metadata": {},
   "source": [
    "5. Анализируем дома в зависимости от типа:"
   ]
  },
  {
   "cell_type": "code",
   "execution_count": 15,
   "metadata": {},
   "outputs": [],
   "source": [
    "allhouse = df[['Тип дома']]\n",
    "allhouse.insert(1,'Количество', 1)"
   ]
  },
  {
   "cell_type": "code",
   "execution_count": 13,
   "metadata": {},
   "outputs": [
    {
     "data": {
      "text/html": [
       "<div>\n",
       "<style scoped>\n",
       "    .dataframe tbody tr th:only-of-type {\n",
       "        vertical-align: middle;\n",
       "    }\n",
       "\n",
       "    .dataframe tbody tr th {\n",
       "        vertical-align: top;\n",
       "    }\n",
       "\n",
       "    .dataframe thead th {\n",
       "        text-align: right;\n",
       "    }\n",
       "</style>\n",
       "<table border=\"1\" class=\"dataframe\">\n",
       "  <thead>\n",
       "    <tr style=\"text-align: right;\">\n",
       "      <th></th>\n",
       "      <th>Количество</th>\n",
       "      <th>Проценты</th>\n",
       "    </tr>\n",
       "    <tr>\n",
       "      <th>Тип дома</th>\n",
       "      <th></th>\n",
       "      <th></th>\n",
       "    </tr>\n",
       "  </thead>\n",
       "  <tbody>\n",
       "    <tr>\n",
       "      <th>NaN</th>\n",
       "      <td>1375</td>\n",
       "      <td>15.57</td>\n",
       "    </tr>\n",
       "    <tr>\n",
       "      <th>Б</th>\n",
       "      <td>397</td>\n",
       "      <td>4.50</td>\n",
       "    </tr>\n",
       "    <tr>\n",
       "      <th>Ж-б</th>\n",
       "      <td>1</td>\n",
       "      <td>0.01</td>\n",
       "    </tr>\n",
       "    <tr>\n",
       "      <th>К</th>\n",
       "      <td>1979</td>\n",
       "      <td>22.41</td>\n",
       "    </tr>\n",
       "    <tr>\n",
       "      <th>М</th>\n",
       "      <td>1963</td>\n",
       "      <td>22.23</td>\n",
       "    </tr>\n",
       "    <tr>\n",
       "      <th>М-К</th>\n",
       "      <td>613</td>\n",
       "      <td>6.94</td>\n",
       "    </tr>\n",
       "    <tr>\n",
       "      <th>П</th>\n",
       "      <td>2150</td>\n",
       "      <td>24.35</td>\n",
       "    </tr>\n",
       "    <tr>\n",
       "      <th>Стал.</th>\n",
       "      <td>350</td>\n",
       "      <td>3.96</td>\n",
       "    </tr>\n",
       "    <tr>\n",
       "      <th>Шлакоблок</th>\n",
       "      <td>1</td>\n",
       "      <td>0.01</td>\n",
       "    </tr>\n",
       "  </tbody>\n",
       "</table>\n",
       "</div>"
      ],
      "text/plain": [
       "           Количество  Проценты\n",
       "Тип дома                       \n",
       "NaN              1375     15.57\n",
       "Б                 397      4.50\n",
       "Ж-б                 1      0.01\n",
       "К                1979     22.41\n",
       "М                1963     22.23\n",
       "М-К               613      6.94\n",
       "П                2150     24.35\n",
       "Стал.             350      3.96\n",
       "Шлакоблок           1      0.01"
      ]
     },
     "execution_count": 13,
     "metadata": {},
     "output_type": "execute_result"
    }
   ],
   "source": [
    "#a. находим количество и процент для каждого типа домов\n",
    "allhouse = allhouse.fillna('NaN').groupby('Тип дома').sum()\n",
    "alz = allhouse['Количество'].sum()\n",
    "allhouse['Проценты'] = allhouse['Количество'].apply(lambda x: round(float(x / alz) * 100, 2))\n",
    "allhouse"
   ]
  },
  {
   "cell_type": "code",
   "execution_count": 433,
   "metadata": {},
   "outputs": [],
   "source": [
    "#б. убираем типы с одной записью, добавляем их в NaN\n",
    "allhouse = allhouse.drop(columns='Проценты')\n",
    "cnt = allhouse.loc[allhouse['Количество'] == 1, 'Количество'].sum()  \n",
    "allhouse = allhouse[allhouse['Количество'] != 1]\n",
    "allhouse.at['NaN', 'Количество'] = allhouse.at['NaN', 'Количество'] + cnt"
   ]
  },
  {
   "cell_type": "code",
   "execution_count": 434,
   "metadata": {},
   "outputs": [
    {
     "data": {
      "text/html": [
       "<div>\n",
       "<style scoped>\n",
       "    .dataframe tbody tr th:only-of-type {\n",
       "        vertical-align: middle;\n",
       "    }\n",
       "\n",
       "    .dataframe tbody tr th {\n",
       "        vertical-align: top;\n",
       "    }\n",
       "\n",
       "    .dataframe thead th {\n",
       "        text-align: right;\n",
       "    }\n",
       "</style>\n",
       "<table border=\"1\" class=\"dataframe\">\n",
       "  <thead>\n",
       "    <tr style=\"text-align: right;\">\n",
       "      <th></th>\n",
       "      <th>Количество</th>\n",
       "      <th>Проценты</th>\n",
       "    </tr>\n",
       "    <tr>\n",
       "      <th>Тип дома</th>\n",
       "      <th></th>\n",
       "      <th></th>\n",
       "    </tr>\n",
       "  </thead>\n",
       "  <tbody>\n",
       "    <tr>\n",
       "      <th>NaN</th>\n",
       "      <td>1377</td>\n",
       "      <td>15.60</td>\n",
       "    </tr>\n",
       "    <tr>\n",
       "      <th>Б</th>\n",
       "      <td>397</td>\n",
       "      <td>4.50</td>\n",
       "    </tr>\n",
       "    <tr>\n",
       "      <th>К</th>\n",
       "      <td>1979</td>\n",
       "      <td>22.41</td>\n",
       "    </tr>\n",
       "    <tr>\n",
       "      <th>М</th>\n",
       "      <td>1963</td>\n",
       "      <td>22.23</td>\n",
       "    </tr>\n",
       "    <tr>\n",
       "      <th>М-К</th>\n",
       "      <td>613</td>\n",
       "      <td>6.94</td>\n",
       "    </tr>\n",
       "    <tr>\n",
       "      <th>П</th>\n",
       "      <td>2150</td>\n",
       "      <td>24.35</td>\n",
       "    </tr>\n",
       "    <tr>\n",
       "      <th>Стал.</th>\n",
       "      <td>350</td>\n",
       "      <td>3.96</td>\n",
       "    </tr>\n",
       "  </tbody>\n",
       "</table>\n",
       "</div>"
      ],
      "text/plain": [
       "          Количество  Проценты\n",
       "Тип дома                      \n",
       "NaN             1377     15.60\n",
       "Б                397      4.50\n",
       "К               1979     22.41\n",
       "М               1963     22.23\n",
       "М-К              613      6.94\n",
       "П               2150     24.35\n",
       "Стал.            350      3.96"
      ]
     },
     "execution_count": 434,
     "metadata": {},
     "output_type": "execute_result"
    }
   ],
   "source": [
    "#пересчитываем процент\n",
    "allhouse['Проценты'] = allhouse['Количество'].apply(lambda x: round(float(x / alz) * 100, 2))\n",
    "allhouse"
   ]
  },
  {
   "cell_type": "code",
   "execution_count": 435,
   "metadata": {},
   "outputs": [],
   "source": [
    "# Объединение Б и П, М и М-К, пересчитываем проценты\n",
    "allhouse.index = allhouse.index.to_series().replace({'П':'Б-П', 'Б':'Б-П', 'М':'М-К'}) "
   ]
  },
  {
   "cell_type": "code",
   "execution_count": 436,
   "metadata": {},
   "outputs": [],
   "source": [
    "allhouse = allhouse.groupby(allhouse.index, sort=False).sum()\n",
    "allhouse['Проценты'] = allhouse['Количество'].apply(lambda x: round(float(x/alz) * 100, 2))"
   ]
  },
  {
   "cell_type": "code",
   "execution_count": 437,
   "metadata": {},
   "outputs": [
    {
     "data": {
      "text/html": [
       "<div>\n",
       "<style scoped>\n",
       "    .dataframe tbody tr th:only-of-type {\n",
       "        vertical-align: middle;\n",
       "    }\n",
       "\n",
       "    .dataframe tbody tr th {\n",
       "        vertical-align: top;\n",
       "    }\n",
       "\n",
       "    .dataframe thead th {\n",
       "        text-align: right;\n",
       "    }\n",
       "</style>\n",
       "<table border=\"1\" class=\"dataframe\">\n",
       "  <thead>\n",
       "    <tr style=\"text-align: right;\">\n",
       "      <th></th>\n",
       "      <th>Количество</th>\n",
       "      <th>Проценты</th>\n",
       "    </tr>\n",
       "    <tr>\n",
       "      <th>Тип дома</th>\n",
       "      <th></th>\n",
       "      <th></th>\n",
       "    </tr>\n",
       "  </thead>\n",
       "  <tbody>\n",
       "    <tr>\n",
       "      <th>NaN</th>\n",
       "      <td>1377</td>\n",
       "      <td>15.60</td>\n",
       "    </tr>\n",
       "    <tr>\n",
       "      <th>Б-П</th>\n",
       "      <td>2547</td>\n",
       "      <td>28.85</td>\n",
       "    </tr>\n",
       "    <tr>\n",
       "      <th>К</th>\n",
       "      <td>1979</td>\n",
       "      <td>22.41</td>\n",
       "    </tr>\n",
       "    <tr>\n",
       "      <th>М-К</th>\n",
       "      <td>2576</td>\n",
       "      <td>29.18</td>\n",
       "    </tr>\n",
       "    <tr>\n",
       "      <th>Стал.</th>\n",
       "      <td>350</td>\n",
       "      <td>3.96</td>\n",
       "    </tr>\n",
       "  </tbody>\n",
       "</table>\n",
       "</div>"
      ],
      "text/plain": [
       "          Количество  Проценты\n",
       "Тип дома                      \n",
       "NaN             1377     15.60\n",
       "Б-П             2547     28.85\n",
       "К               1979     22.41\n",
       "М-К             2576     29.18\n",
       "Стал.            350      3.96"
      ]
     },
     "execution_count": 437,
     "metadata": {},
     "output_type": "execute_result"
    }
   ],
   "source": [
    "allhouse"
   ]
  },
  {
   "cell_type": "code",
   "execution_count": null,
   "metadata": {},
   "outputs": [],
   "source": []
  },
  {
   "cell_type": "code",
   "execution_count": null,
   "metadata": {},
   "outputs": [],
   "source": []
  },
  {
   "cell_type": "code",
   "execution_count": null,
   "metadata": {},
   "outputs": [],
   "source": []
  },
  {
   "cell_type": "code",
   "execution_count": null,
   "metadata": {},
   "outputs": [],
   "source": []
  }
 ],
 "metadata": {
  "kernelspec": {
   "display_name": "Python 3",
   "language": "python",
   "name": "python3"
  },
  "language_info": {
   "codemirror_mode": {
    "name": "ipython",
    "version": 3
   },
   "file_extension": ".py",
   "mimetype": "text/x-python",
   "name": "python",
   "nbconvert_exporter": "python",
   "pygments_lexer": "ipython3",
   "version": "3.7.0"
  }
 },
 "nbformat": 4,
 "nbformat_minor": 2
}
