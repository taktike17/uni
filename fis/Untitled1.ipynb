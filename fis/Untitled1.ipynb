{
 "cells": [
  {
   "cell_type": "code",
   "execution_count": 7,
   "metadata": {},
   "outputs": [
    {
     "data": {
      "image/png": "[encoded data removed]",
      "text/plain": [
       "<Figure size 432x288 with 1 Axes>"
      ]
     },
     "metadata": {
      "needs_background": "light"
     },
     "output_type": "display_data"
    }
   ],
   "source": [
    "import numpy as np\n",
    "import matplotlib.pyplot as plt\n",
    "%matplotlib inline\n",
    "\n",
    "N = 50\n",
    "x = np.random.rand(N)\n",
    "y = np.random.rand(N)\n",
    "\n",
    "fig, ax = plt.subplots( nrows=1, ncols=1 )  # create figure & 1 axis\n",
    "ax.scatter(x, y)\n",
    "plt.show()\n",
    "fig.savefig('to.png')   # save the figure to file\n",
    "plt.close(fig) "
   ]
  },
  {
   "cell_type": "code",
   "execution_count": 3,
   "metadata": {},
   "outputs": [
    {
     "data": {
      "text/plain": [
       "<module 'numpy' from 'C:\\\\ProgramData\\\\Anaconda3\\\\lib\\\\site-packages\\\\numpy\\\\__init__.py'>"
      ]
     },
     "execution_count": 3,
     "metadata": {},
     "output_type": "execute_result"
    }
   ],
   "source": [
    "np"
   ]
  },
  {
   "cell_type": "code",
   "execution_count": 4,
   "metadata": {},
   "outputs": [
    {
     "data": {
      "text/plain": [
       "array([0.47546341, 0.41799815, 0.01355919, 0.4747186 , 0.13172123,\n",
       "       0.91125046, 0.89638749, 0.06062344, 0.29363657, 0.36649059,\n",
       "       0.77334296, 0.67926826, 0.05876534, 0.23287483, 0.85850991,\n",
       "       0.47682247, 0.53522229, 0.58312895, 0.38416425, 0.14934273,\n",
       "       0.51042433, 0.11021999, 0.77248628, 0.37773888, 0.32293495,\n",
       "       0.33806736, 0.78373903, 0.39240849, 0.80043134, 0.19625053,\n",
       "       0.29458616, 0.00865015, 0.67940928, 0.75776506, 0.04372066,\n",
       "       0.16652529, 0.20044046, 0.394706  , 0.82868458, 0.86792141,\n",
       "       0.27156817, 0.10144082, 0.35629903, 0.92385215, 0.32637001,\n",
       "       0.5657051 , 0.58379027, 0.81697975, 0.64818377, 0.23000561])"
      ]
     },
     "execution_count": 4,
     "metadata": {},
     "output_type": "execute_result"
    }
   ],
   "source": [
    "x"
   ]
  },
  {
   "cell_type": "code",
   "execution_count": 5,
   "metadata": {},
   "outputs": [
    {
     "data": {
      "text/plain": [
       "array([0.33242326, 0.63967191, 0.089846  , 0.33009821, 0.90716952,\n",
       "       0.18510702, 0.090553  , 0.69548344, 0.93794374, 0.67204045,\n",
       "       0.29164525, 0.58751969, 0.13359701, 0.64751332, 0.92192926,\n",
       "       0.81121487, 0.7905064 , 0.99326497, 0.19019544, 0.38300794,\n",
       "       0.96718872, 0.14488336, 0.76377369, 0.10860136, 0.91052611,\n",
       "       0.74709914, 0.60106019, 0.16182301, 0.37572912, 0.6063225 ,\n",
       "       0.04905896, 0.37619185, 0.65076516, 0.42058823, 0.63243825,\n",
       "       0.28129222, 0.57638012, 0.3657275 , 0.85303291, 0.8238114 ,\n",
       "       0.22677594, 0.01764603, 0.76221817, 0.21337384, 0.76995227,\n",
       "       0.64087402, 0.61934763, 0.68362021, 0.2102856 , 0.13146335])"
      ]
     },
     "execution_count": 5,
     "metadata": {},
     "output_type": "execute_result"
    }
   ],
   "source": [
    "y"
   ]
  },
  {
   "cell_type": "code",
   "execution_count": null,
   "metadata": {},
   "outputs": [],
   "source": [
    "fig, ax = plt.subplots( nrows=1, ncols=1 )  # create figure & 1 axis\n",
    "ax.plot([0,1,2], [10,20,3])\n",
    "fig.savefig('path/to/save/image/to.png')   # save the figure to file\n",
    "plt.close(fig)    # close the figure"
   ]
  }
 ],
 "metadata": {
  "kernelspec": {
   "display_name": "Python 3",
   "language": "python",
   "name": "python3"
  },
  "language_info": {
   "codemirror_mode": {
    "name": "ipython",
    "version": 3
   },
   "file_extension": ".py",
   "mimetype": "text/x-python",
   "name": "python",
   "nbconvert_exporter": "python",
   "pygments_lexer": "ipython3",
   "version": "3.7.0"
  }
 },
 "nbformat": 4,
 "nbformat_minor": 2
}
