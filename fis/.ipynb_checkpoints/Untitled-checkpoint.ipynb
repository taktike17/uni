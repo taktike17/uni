{
 "cells": [
  {
   "cell_type": "code",
   "execution_count": 341,
   "metadata": {},
   "outputs": [],
   "source": [
    "import matplotlib.pyplot as plt\n",
    "import numpy as np\n",
    "import math\n",
    "import random\n",
    "%matplotlib inline"
   ]
  },
  {
   "cell_type": "code",
   "execution_count": 342,
   "metadata": {},
   "outputs": [],
   "source": [
    "# ограничение первой областью\n",
    "def restriction1(x):\n",
    "    a = max(x[0], x[1]) >= 0\n",
    "    b = 5*x[0] - 4*x[1] - max(2*x[0], 1*x[1]) * 0.7 <= 10.8\n",
    "    c = 5*x[0] - 4*x[1] + max(2*x[0], 1*x[1]) * 0.7 >= 5.2\n",
    "    \n",
    "    return a and b and c\n",
    "\n",
    "# ограничение второй областью\n",
    "def restriction2(x):\n",
    "    a = max(x[0], x[1]) >= 0\n",
    "    b = 3*x[0] - 5*x[1] - max(0.5*x[0], 1*x[1]) * 0.6 <= 2.9\n",
    "    c = 3*x[0] - 5*x[1] + max(0.5*x[0], 1*x[1]) * 0.6 >= 1.1\n",
    "\n",
    "    return a and b and c"
   ]
  },
  {
   "cell_type": "code",
   "execution_count": 343,
   "metadata": {},
   "outputs": [],
   "source": [
    "def energy(x):\n",
    "    r1 = restriction1(x)\n",
    "    r2 = restriction2(x)\n",
    "\n",
    "    return x[0] + 5*x[1] + 0.2 * max(x[0], x[1]) if r1 and r2 else None"
   ]
  },
  {
   "cell_type": "code",
   "execution_count": 344,
   "metadata": {},
   "outputs": [],
   "source": [
    "T = 1000000\n",
    "ep = 1000000\n",
    "P = 0"
   ]
  },
  {
   "cell_type": "code",
   "execution_count": 345,
   "metadata": {},
   "outputs": [],
   "source": [
    "def Tm(initialTemperature, i):\n",
    "    T = initialTemperature * 1 / i\n",
    "    return T"
   ]
  },
  {
   "cell_type": "code",
   "execution_count": 346,
   "metadata": {},
   "outputs": [],
   "source": [
    "def takestate(state):\n",
    "    ub = 15.0\n",
    "    lb = 0.0\n",
    " #   EB = 2\n",
    "  #  while EB > 1:\n",
    "    state_new = np.random.uniform(0, 1, (1, 2)) * (ub - lb) + lb\n",
    "    state_new = state_new[0]\n",
    "   #     EB = math.sqrt((state[0]-state_new[0])**2 + (state[1]-state_new[1])**2)\n",
    "    return state_new"
   ]
  },
  {
   "cell_type": "code",
   "execution_count": 347,
   "metadata": {},
   "outputs": [],
   "source": [
    "ub = 15.0\n",
    "lb = 0.0\n",
    "\n",
    "#init_r = np.random.uniform(0, 1, (1, 2)) * (ub - lb) + lb\n",
    "#init_r = init_r[0]"
   ]
  },
  {
   "cell_type": "code",
   "execution_count": 348,
   "metadata": {},
   "outputs": [],
   "source": [
    "E_can = None\n",
    "while E_can is None:\n",
    "    init_r = np.random.uniform(0, 1, (1, 2)) * (ub - lb) + lb\n",
    "    init_r = init_r[0]\n",
    "    E_can = energy(init_r)"
   ]
  },
  {
   "cell_type": "code",
   "execution_count": 349,
   "metadata": {},
   "outputs": [],
   "source": [
    "E_curr = E_can\n",
    "R_max = init_r"
   ]
  },
  {
   "cell_type": "code",
   "execution_count": null,
   "metadata": {},
   "outputs": [],
   "source": []
  },
  {
   "cell_type": "code",
   "execution_count": null,
   "metadata": {},
   "outputs": [],
   "source": [
    "for t in range(10):\n",
    "    for e in range(ep):\n",
    "        r_new = takestate(init_r)\n",
    "        E_can = energy(r_new)\n",
    "        if E_can != None:\n",
    "            if E_can > E_curr: \n",
    "                E_curr = E_can\n",
    "                R_max = r_new\n",
    "            elif E_can <= E_curr:\n",
    "                dE = E_can - E_curr\n",
    "                P = math.exp(-dE/T)\n",
    "                Rand = random.random()\n",
    "                if Rand - P > 0:\n",
    "                    E_curr = E_can\n",
    "                    R_max = r_new\n",
    "    r = R_max.tolist()\n",
    "    print(r)\n",
    "    f = open(\"test.txt\", \"a\")\n",
    "    f.write(str(r[0]) +' '+ str(r[1]) +'\\n')\n",
    "    f.close()"
   ]
  },
  {
   "cell_type": "code",
   "execution_count": 339,
   "metadata": {},
   "outputs": [],
   "source": []
  },
  {
   "cell_type": "code",
   "execution_count": null,
   "metadata": {},
   "outputs": [],
   "source": [
    "xx0 = []\n",
    "yy0 = []\n",
    "xx1 = []\n",
    "yy1 = []\n",
    "xx2 = []\n",
    "yy2 = []\n",
    "\n",
    "r = np.arange(-10.0, 15.0, 0.01)\n",
    "for y in r:\n",
    "    for x in r:\n",
    "        r1 = restriction1([x, y])\n",
    "        r2 = restriction2([x, y])\n",
    "        if r1 and r2:\n",
    "            xx0.append(x)\n",
    "            yy0.append(y)\n",
    "        elif r1:\n",
    "            xx1.append(x)\n",
    "            yy1.append(y)\n",
    "        elif r2:\n",
    "            xx2.append(x)\n",
    "            yy2.append(y)\n",
    "\n",
    "plt.plot(xx1, yy1)\n",
    "plt.plot(xx2, yy2)\n",
    "plt.plot(xx0, yy0, 'yellow')\n",
    "plt.plot(R_max[0], R_max[1], 'r+', markersize=15)\n",
    "plt.show()"
   ]
  },
  {
   "cell_type": "code",
   "execution_count": null,
   "metadata": {},
   "outputs": [],
   "source": []
  }
 ],
 "metadata": {
  "kernelspec": {
   "display_name": "Python 3",
   "language": "python",
   "name": "python3"
  },
  "language_info": {
   "codemirror_mode": {
    "name": "ipython",
    "version": 3
   },
   "file_extension": ".py",
   "mimetype": "text/x-python",
   "name": "python",
   "nbconvert_exporter": "python",
   "pygments_lexer": "ipython3",
   "version": "3.7.0"
  }
 },
 "nbformat": 4,
 "nbformat_minor": 2
}
