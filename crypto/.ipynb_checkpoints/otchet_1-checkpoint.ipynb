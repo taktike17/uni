{
 "cells": [
  {
   "cell_type": "markdown",
   "metadata": {},
   "source": [
    "1. Дешифровать файл t3_caesar_c_all.txt."
   ]
  },
  {
   "cell_type": "code",
   "execution_count": 4,
   "metadata": {},
   "outputs": [],
   "source": [
    "import caesar\n",
    "import read_write_file\n",
    "import detectEnglish\n",
    "\n",
    "def decrypt(k):\n",
    "    data = read_write_file.read_data_1byte('files/t3_caesar_c_all.txt')\n",
    "    decrypt_data = caesar.decrypt_data(data, key = k)\n",
    "    read_write_file.write_data_1byte('files/t3_caesar_c_all_decrypt.txt', decrypt_data)"
   ]
  },
  {
   "cell_type": "code",
   "execution_count": 10,
   "metadata": {},
   "outputs": [
    {
     "name": "stdout",
     "output_type": "stream",
     "text": [
      "key = 135\n"
     ]
    }
   ],
   "source": [
    "data = read_write_file.read_data_1byte('files/t3_caesar_c_all.txt')\n",
    "for k in range(256):\n",
    "    decrypt_data = caesar.decrypt_data(data[0:50], key = k)\n",
    "    txt = ''.join([chr(s) for s in decrypt_data])\n",
    "    #print(txt)\n",
    "    is_english = detectEnglish.isEnglish(txt)\n",
    "    if is_english:\n",
    "        print('key =', k)\n",
    "        break;\n",
    "decrypt(k)"
   ]
  },
  {
   "cell_type": "markdown",
   "metadata": {},
   "source": [
    "2. Дешифровать файл c4_caesar_c_all.bmp. Зашифровать, оставив первые 50 байт без изменения. Сравнить с оригинальным изображением."
   ]
  },
  {
   "cell_type": "code",
   "execution_count": null,
   "metadata": {},
   "outputs": [],
   "source": []
  }
 ],
 "metadata": {
  "kernelspec": {
   "display_name": "Python 3",
   "language": "python",
   "name": "python3"
  },
  "language_info": {
   "codemirror_mode": {
    "name": "ipython",
    "version": 3
   },
   "file_extension": ".py",
   "mimetype": "text/x-python",
   "name": "python",
   "nbconvert_exporter": "python",
   "pygments_lexer": "ipython3",
   "version": "3.7.0"
  }
 },
 "nbformat": 4,
 "nbformat_minor": 2
}
